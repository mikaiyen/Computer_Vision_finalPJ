{
 "cells": [
  {
   "cell_type": "code",
   "execution_count": 1,
   "metadata": {
    "_cell_guid": "b1076dfc-b9ad-4769-8c92-a6c4dae69d19",
    "_uuid": "8f2839f25d086af736a60e9eeb907d3b93b6e0e5"
   },
   "outputs": [
    {
     "name": "stdout",
     "output_type": "stream",
     "text": [
      "['captcha-version-2-images', 'capthaimages']\n"
     ]
    }
   ],
   "source": [
    "# This Python 3 environment comes with many helpful analytics libraries installed\n",
    "# It is defined by the kaggle/python docker image: https://github.com/kaggle/docker-python\n",
    "# For example, here's several helpful packages to load in \n",
    "\n",
    "import numpy as np # linear algebra\n",
    "import pandas as pd # data processing, CSV file I/O (e.g. pd.read_csv)\n",
    "# Input data files are available in the \"../input/\" directory.http://localhost:8925/notebooks/OneDrive/Desktop/Computer_Vision_finalPJ/captcha-recognition-26d064.ipynb#\n",
    "# For example, running this (by clicking run or pressing Shift+Enter) will list the files in the input directory\n",
    "%matplotlib inline \n",
    "import matplotlib.pyplot as plt\n",
    "import os\n",
    "print(os.listdir(\"./input\"))\n",
    "\n",
    "# Any results you write to the current directory are saved as output."
   ]
  },
  {
   "cell_type": "code",
   "execution_count": 2,
   "metadata": {
    "_uuid": "1fdd3e1588206ff8c65ec7cf8ac41c5360a5c00a"
   },
   "outputs": [],
   "source": [
    "from keras import layers\n",
    "from keras.models import Model\n",
    "from keras.models import load_model\n",
    "from keras import callbacks\n",
    "import os\n",
    "import cv2\n",
    "import string\n",
    "import numpy as np\n",
    "\n",
    "#Init main values\n",
    "symbols = string.ascii_lowercase + \"0123456789\" # All symbols captcha can contain\n",
    "num_symbols = len(symbols)\n",
    "img_shape = (50, 200, 1)"
   ]
  },
  {
   "cell_type": "code",
   "execution_count": 3,
   "metadata": {
    "_uuid": "a84cb6138839a96688013722a585658859150dd8"
   },
   "outputs": [
    {
     "name": "stdout",
     "output_type": "stream",
     "text": [
      "36\n"
     ]
    }
   ],
   "source": [
    "print(num_symbols)"
   ]
  },
  {
   "cell_type": "code",
   "execution_count": 4,
   "metadata": {
    "_uuid": "46c8b77c16307b91a561dd2b3c82d894063671b8"
   },
   "outputs": [],
   "source": [
    "def create_model():# Get image as an input and process it through some Convs\n",
    "    img = layers.Input(shape=img_shape) # shape：輸入的形狀，tuple類型 (50, 200, 1)\n",
    "    conv1 = layers.Conv2D(16, (3, 3), padding='same', activation='relu')(img) \n",
    "    # Convolution : filter數量16 ; kernel_size=3*3 ; 邊緣用0填充 ; 激活函數=relu\n",
    "    mp1 = layers.MaxPooling2D(padding='same')(conv1)  # 100x25\n",
    "    # Max pooling : 邊緣用0填充 \n",
    "    conv2 = layers.Conv2D(32, (3, 3), padding='same', activation='relu')(mp1)\n",
    "    mp2 = layers.MaxPooling2D(padding='same')(conv2)  # 50x13\n",
    "    conv3 = layers.Conv2D(32, (3, 3), padding='same', activation='relu')(mp2)\n",
    "    bn = layers.BatchNormalization()(conv3) # 正規化輸出的結果\n",
    "    mp3 = layers.MaxPooling2D(padding='same')(bn)  # 25x7\n",
    "    \n",
    "    # Get flattened vector and make 5 branches from it. Each branch will predict one letter\n",
    "    flat = layers.Flatten()(mp3)\n",
    "    outs = []\n",
    "    for _ in range(5):\n",
    "        dens1 = layers.Dense(64, activation='relu')(flat)\n",
    "        drop = layers.Dropout(0.5)(dens1) # 用Dropout正則化防止過擬合\n",
    "        res = layers.Dense(num_symbols, activation='softmax')(drop) # 用來做多分類輸出\n",
    "\n",
    "        outs.append(res)\n",
    "    \n",
    "    # Compile model and return it\n",
    "    model = Model(img, outs)\n",
    "    model.compile(loss='categorical_crossentropy', optimizer='adam',metrics=[\"accuracy\"])\n",
    "    return model"
   ]
  },
  {
   "cell_type": "code",
   "execution_count": 5,
   "metadata": {
    "_uuid": "4dccb0ee2eb679f4b7e7d1a92b52d643ac02ff3e"
   },
   "outputs": [],
   "source": [
    "def preprocess_data():\n",
    "    n_samples = len(os.listdir('./input/captcha-version-2-images'))\n",
    "    X = np.zeros((n_samples, 50, 200, 1)) #1070*50*200\n",
    "    y = np.zeros((5, n_samples, num_symbols)) #5*1070*36\n",
    "\n",
    "    for i, pic in enumerate(os.listdir('./input/captcha-version-2-images')):\n",
    "        # Read image as grayscale\n",
    "        img = cv2.imread(os.path.join('./input/captcha-version-2-images', pic), cv2.IMREAD_GRAYSCALE)\n",
    "        pic_target = pic[:-4]\n",
    "        if len(pic_target) < 6:\n",
    "            # Scale and reshape image\n",
    "            img = img / 255.0\n",
    "            img = np.reshape(img, (50, 200, 1))\n",
    "            # Define targets and code them using OneHotEncoding\n",
    "            targs = np.zeros((5, num_symbols))\n",
    "            for j, l in enumerate(pic_target):\n",
    "                ind = symbols.find(l)\n",
    "                targs[j, ind] = 1\n",
    "            X[i] = img\n",
    "            y[:, i] = targs\n",
    "    \n",
    "    # Return final data\n",
    "    return X, y\n",
    "\n",
    "X, y = preprocess_data()\n",
    "X_train, y_train = X[:970], y[:, :970]\n",
    "X_test, y_test = X[970:], y[:, 970:]"
   ]
  },
  {
   "cell_type": "code",
   "execution_count": 6,
   "metadata": {
    "_uuid": "834999810cccd5d867f87b26b4b6e89d87a3092f"
   },
   "outputs": [
    {
     "name": "stdout",
     "output_type": "stream",
     "text": [
      "Model: \"model\"\n",
      "__________________________________________________________________________________________________\n",
      " Layer (type)                   Output Shape         Param #     Connected to                     \n",
      "==================================================================================================\n",
      " input_1 (InputLayer)           [(None, 50, 200, 1)  0           []                               \n",
      "                                ]                                                                 \n",
      "                                                                                                  \n",
      " conv2d (Conv2D)                (None, 50, 200, 16)  160         ['input_1[0][0]']                \n",
      "                                                                                                  \n",
      " max_pooling2d (MaxPooling2D)   (None, 25, 100, 16)  0           ['conv2d[0][0]']                 \n",
      "                                                                                                  \n",
      " conv2d_1 (Conv2D)              (None, 25, 100, 32)  4640        ['max_pooling2d[0][0]']          \n",
      "                                                                                                  \n",
      " max_pooling2d_1 (MaxPooling2D)  (None, 13, 50, 32)  0           ['conv2d_1[0][0]']               \n",
      "                                                                                                  \n",
      " conv2d_2 (Conv2D)              (None, 13, 50, 32)   9248        ['max_pooling2d_1[0][0]']        \n",
      "                                                                                                  \n",
      " batch_normalization (BatchNorm  (None, 13, 50, 32)  128         ['conv2d_2[0][0]']               \n",
      " alization)                                                                                       \n",
      "                                                                                                  \n",
      " max_pooling2d_2 (MaxPooling2D)  (None, 7, 25, 32)   0           ['batch_normalization[0][0]']    \n",
      "                                                                                                  \n",
      " flatten (Flatten)              (None, 5600)         0           ['max_pooling2d_2[0][0]']        \n",
      "                                                                                                  \n",
      " dense (Dense)                  (None, 64)           358464      ['flatten[0][0]']                \n",
      "                                                                                                  \n",
      " dense_2 (Dense)                (None, 64)           358464      ['flatten[0][0]']                \n",
      "                                                                                                  \n",
      " dense_4 (Dense)                (None, 64)           358464      ['flatten[0][0]']                \n",
      "                                                                                                  \n",
      " dense_6 (Dense)                (None, 64)           358464      ['flatten[0][0]']                \n",
      "                                                                                                  \n",
      " dense_8 (Dense)                (None, 64)           358464      ['flatten[0][0]']                \n",
      "                                                                                                  \n",
      " dropout (Dropout)              (None, 64)           0           ['dense[0][0]']                  \n",
      "                                                                                                  \n",
      " dropout_1 (Dropout)            (None, 64)           0           ['dense_2[0][0]']                \n",
      "                                                                                                  \n",
      " dropout_2 (Dropout)            (None, 64)           0           ['dense_4[0][0]']                \n",
      "                                                                                                  \n",
      " dropout_3 (Dropout)            (None, 64)           0           ['dense_6[0][0]']                \n",
      "                                                                                                  \n",
      " dropout_4 (Dropout)            (None, 64)           0           ['dense_8[0][0]']                \n",
      "                                                                                                  \n",
      " dense_1 (Dense)                (None, 36)           2340        ['dropout[0][0]']                \n",
      "                                                                                                  \n",
      " dense_3 (Dense)                (None, 36)           2340        ['dropout_1[0][0]']              \n",
      "                                                                                                  \n",
      " dense_5 (Dense)                (None, 36)           2340        ['dropout_2[0][0]']              \n",
      "                                                                                                  \n",
      " dense_7 (Dense)                (None, 36)           2340        ['dropout_3[0][0]']              \n",
      "                                                                                                  \n",
      " dense_9 (Dense)                (None, 36)           2340        ['dropout_4[0][0]']              \n",
      "                                                                                                  \n",
      "==================================================================================================\n",
      "Total params: 1,818,196\n",
      "Trainable params: 1,818,132\n",
      "Non-trainable params: 64\n",
      "__________________________________________________________________________________________________\n"
     ]
    }
   ],
   "source": [
    "model=create_model();\n",
    "model.summary();"
   ]
  },
  {
   "cell_type": "code",
   "execution_count": 7,
   "metadata": {
    "_uuid": "e82754ff49c3cec708b87947c417566a252d3c12"
   },
   "outputs": [
    {
     "name": "stdout",
     "output_type": "stream",
     "text": [
      "Epoch 1/30\n",
      "25/25 [==============================] - 7s 190ms/step - loss: 17.5821 - dense_1_loss: 3.4056 - dense_3_loss: 3.5644 - dense_5_loss: 3.5214 - dense_7_loss: 3.5659 - dense_9_loss: 3.5248 - dense_1_accuracy: 0.0593 - dense_3_accuracy: 0.0374 - dense_5_accuracy: 0.0580 - dense_7_accuracy: 0.0631 - dense_9_accuracy: 0.0477 - val_loss: 17.7418 - val_dense_1_loss: 3.6300 - val_dense_3_loss: 3.5292 - val_dense_5_loss: 3.5202 - val_dense_7_loss: 3.5325 - val_dense_9_loss: 3.5299 - val_dense_1_accuracy: 0.0000e+00 - val_dense_3_accuracy: 0.0464 - val_dense_5_accuracy: 0.0979 - val_dense_7_accuracy: 0.0464 - val_dense_9_accuracy: 0.0309\n",
      "Epoch 2/30\n",
      "25/25 [==============================] - 4s 165ms/step - loss: 16.2834 - dense_1_loss: 3.0334 - dense_3_loss: 3.3141 - dense_5_loss: 3.3054 - dense_7_loss: 3.3296 - dense_9_loss: 3.3009 - dense_1_accuracy: 0.1211 - dense_3_accuracy: 0.0709 - dense_5_accuracy: 0.0889 - dense_7_accuracy: 0.0799 - dense_9_accuracy: 0.0696 - val_loss: 17.7206 - val_dense_1_loss: 3.6209 - val_dense_3_loss: 3.5316 - val_dense_5_loss: 3.5117 - val_dense_7_loss: 3.5289 - val_dense_9_loss: 3.5275 - val_dense_1_accuracy: 0.0000e+00 - val_dense_3_accuracy: 0.0773 - val_dense_5_accuracy: 0.1082 - val_dense_7_accuracy: 0.1031 - val_dense_9_accuracy: 0.1392\n",
      "Epoch 3/30\n",
      "25/25 [==============================] - 4s 159ms/step - loss: 14.8661 - dense_1_loss: 2.5960 - dense_3_loss: 3.0735 - dense_5_loss: 3.0261 - dense_7_loss: 3.0925 - dense_9_loss: 3.0780 - dense_1_accuracy: 0.2062 - dense_3_accuracy: 0.1289 - dense_5_accuracy: 0.1224 - dense_7_accuracy: 0.1173 - dense_9_accuracy: 0.0979 - val_loss: 17.5807 - val_dense_1_loss: 3.6535 - val_dense_3_loss: 3.4937 - val_dense_5_loss: 3.4698 - val_dense_7_loss: 3.4926 - val_dense_9_loss: 3.4711 - val_dense_1_accuracy: 0.0000e+00 - val_dense_3_accuracy: 0.1186 - val_dense_5_accuracy: 0.2526 - val_dense_7_accuracy: 0.1649 - val_dense_9_accuracy: 0.2010\n",
      "Epoch 4/30\n",
      "25/25 [==============================] - 4s 155ms/step - loss: 12.6988 - dense_1_loss: 2.0007 - dense_3_loss: 2.6577 - dense_5_loss: 2.5331 - dense_7_loss: 2.7858 - dense_9_loss: 2.7216 - dense_1_accuracy: 0.3724 - dense_3_accuracy: 0.1972 - dense_5_accuracy: 0.2281 - dense_7_accuracy: 0.1753 - dense_9_accuracy: 0.1662 - val_loss: 17.3480 - val_dense_1_loss: 3.7115 - val_dense_3_loss: 3.4212 - val_dense_5_loss: 3.3533 - val_dense_7_loss: 3.4312 - val_dense_9_loss: 3.4307 - val_dense_1_accuracy: 0.0000e+00 - val_dense_3_accuracy: 0.2990 - val_dense_5_accuracy: 0.2990 - val_dense_7_accuracy: 0.2526 - val_dense_9_accuracy: 0.2526\n",
      "Epoch 5/30\n",
      "25/25 [==============================] - 4s 157ms/step - loss: 10.8565 - dense_1_loss: 1.5516 - dense_3_loss: 2.2984 - dense_5_loss: 2.1911 - dense_7_loss: 2.4491 - dense_9_loss: 2.3663 - dense_1_accuracy: 0.4807 - dense_3_accuracy: 0.2822 - dense_5_accuracy: 0.3454 - dense_7_accuracy: 0.2616 - dense_9_accuracy: 0.2526 - val_loss: 16.8968 - val_dense_1_loss: 3.7054 - val_dense_3_loss: 3.2975 - val_dense_5_loss: 3.2830 - val_dense_7_loss: 3.3211 - val_dense_9_loss: 3.2897 - val_dense_1_accuracy: 0.0000e+00 - val_dense_3_accuracy: 0.4485 - val_dense_5_accuracy: 0.5103 - val_dense_7_accuracy: 0.3660 - val_dense_9_accuracy: 0.3041\n",
      "Epoch 6/30\n",
      "25/25 [==============================] - 4s 159ms/step - loss: 8.9488 - dense_1_loss: 1.0840 - dense_3_loss: 1.8961 - dense_5_loss: 1.7937 - dense_7_loss: 2.1661 - dense_9_loss: 2.0089 - dense_1_accuracy: 0.6276 - dense_3_accuracy: 0.3789 - dense_5_accuracy: 0.4227 - dense_7_accuracy: 0.3363 - dense_9_accuracy: 0.3466 - val_loss: 16.6399 - val_dense_1_loss: 3.7913 - val_dense_3_loss: 3.1840 - val_dense_5_loss: 3.1838 - val_dense_7_loss: 3.2819 - val_dense_9_loss: 3.1988 - val_dense_1_accuracy: 0.0000e+00 - val_dense_3_accuracy: 0.3918 - val_dense_5_accuracy: 0.5361 - val_dense_7_accuracy: 0.4021 - val_dense_9_accuracy: 0.3711\n",
      "Epoch 7/30\n",
      "25/25 [==============================] - 4s 158ms/step - loss: 7.5490 - dense_1_loss: 0.8326 - dense_3_loss: 1.6087 - dense_5_loss: 1.4493 - dense_7_loss: 1.9556 - dense_9_loss: 1.7029 - dense_1_accuracy: 0.6972 - dense_3_accuracy: 0.4704 - dense_5_accuracy: 0.5425 - dense_7_accuracy: 0.4098 - dense_9_accuracy: 0.4433 - val_loss: 15.6212 - val_dense_1_loss: 3.7209 - val_dense_3_loss: 2.9749 - val_dense_5_loss: 2.8932 - val_dense_7_loss: 3.0704 - val_dense_9_loss: 2.9618 - val_dense_1_accuracy: 0.0000e+00 - val_dense_3_accuracy: 0.6804 - val_dense_5_accuracy: 0.6289 - val_dense_7_accuracy: 0.5155 - val_dense_9_accuracy: 0.5103\n",
      "Epoch 8/30\n",
      "25/25 [==============================] - 4s 155ms/step - loss: 6.3878 - dense_1_loss: 0.6830 - dense_3_loss: 1.3294 - dense_5_loss: 1.2580 - dense_7_loss: 1.6453 - dense_9_loss: 1.4722 - dense_1_accuracy: 0.7474 - dense_3_accuracy: 0.5503 - dense_5_accuracy: 0.5786 - dense_7_accuracy: 0.4562 - dense_9_accuracy: 0.5052 - val_loss: 15.0430 - val_dense_1_loss: 3.9425 - val_dense_3_loss: 2.6944 - val_dense_5_loss: 2.7185 - val_dense_7_loss: 2.9345 - val_dense_9_loss: 2.7531 - val_dense_1_accuracy: 0.0000e+00 - val_dense_3_accuracy: 0.7320 - val_dense_5_accuracy: 0.6907 - val_dense_7_accuracy: 0.6031 - val_dense_9_accuracy: 0.5773\n",
      "Epoch 9/30\n",
      "25/25 [==============================] - 4s 158ms/step - loss: 5.5525 - dense_1_loss: 0.5752 - dense_3_loss: 1.1451 - dense_5_loss: 0.9705 - dense_7_loss: 1.5182 - dense_9_loss: 1.3435 - dense_1_accuracy: 0.7938 - dense_3_accuracy: 0.5928 - dense_5_accuracy: 0.6508 - dense_7_accuracy: 0.4832 - dense_9_accuracy: 0.5528 - val_loss: 14.3651 - val_dense_1_loss: 3.8086 - val_dense_3_loss: 2.6305 - val_dense_5_loss: 2.5068 - val_dense_7_loss: 2.7697 - val_dense_9_loss: 2.6494 - val_dense_1_accuracy: 0.0052 - val_dense_3_accuracy: 0.7371 - val_dense_5_accuracy: 0.7423 - val_dense_7_accuracy: 0.5928 - val_dense_9_accuracy: 0.6289\n",
      "Epoch 10/30\n",
      "25/25 [==============================] - 4s 156ms/step - loss: 4.8490 - dense_1_loss: 0.5074 - dense_3_loss: 0.9869 - dense_5_loss: 0.8787 - dense_7_loss: 1.3288 - dense_9_loss: 1.1473 - dense_1_accuracy: 0.8247 - dense_3_accuracy: 0.6534 - dense_5_accuracy: 0.7113 - dense_7_accuracy: 0.5464 - dense_9_accuracy: 0.5863 - val_loss: 13.5083 - val_dense_1_loss: 4.0417 - val_dense_3_loss: 2.2922 - val_dense_5_loss: 2.3217 - val_dense_7_loss: 2.5449 - val_dense_9_loss: 2.3078 - val_dense_1_accuracy: 0.0052 - val_dense_3_accuracy: 0.7835 - val_dense_5_accuracy: 0.7113 - val_dense_7_accuracy: 0.6340 - val_dense_9_accuracy: 0.6959\n",
      "Epoch 11/30\n",
      "25/25 [==============================] - 4s 152ms/step - loss: 4.2476 - dense_1_loss: 0.4364 - dense_3_loss: 0.8497 - dense_5_loss: 0.6975 - dense_7_loss: 1.2505 - dense_9_loss: 1.0135 - dense_1_accuracy: 0.8376 - dense_3_accuracy: 0.7023 - dense_5_accuracy: 0.7642 - dense_7_accuracy: 0.5709 - dense_9_accuracy: 0.6198 - val_loss: 12.3047 - val_dense_1_loss: 3.9859 - val_dense_3_loss: 1.9686 - val_dense_5_loss: 1.9966 - val_dense_7_loss: 2.3227 - val_dense_9_loss: 2.0310 - val_dense_1_accuracy: 0.0361 - val_dense_3_accuracy: 0.7835 - val_dense_5_accuracy: 0.7577 - val_dense_7_accuracy: 0.6649 - val_dense_9_accuracy: 0.6959\n",
      "Epoch 12/30\n",
      "25/25 [==============================] - 4s 155ms/step - loss: 3.7998 - dense_1_loss: 0.3928 - dense_3_loss: 0.7589 - dense_5_loss: 0.6071 - dense_7_loss: 1.1319 - dense_9_loss: 0.9091 - dense_1_accuracy: 0.8518 - dense_3_accuracy: 0.7384 - dense_5_accuracy: 0.7861 - dense_7_accuracy: 0.5928 - dense_9_accuracy: 0.6907 - val_loss: 11.5387 - val_dense_1_loss: 4.1350 - val_dense_3_loss: 1.7911 - val_dense_5_loss: 1.7180 - val_dense_7_loss: 2.1253 - val_dense_9_loss: 1.7692 - val_dense_1_accuracy: 0.0464 - val_dense_3_accuracy: 0.7938 - val_dense_5_accuracy: 0.7577 - val_dense_7_accuracy: 0.7113 - val_dense_9_accuracy: 0.7887\n",
      "Epoch 13/30\n",
      "25/25 [==============================] - 4s 155ms/step - loss: 3.6444 - dense_1_loss: 0.3613 - dense_3_loss: 0.6907 - dense_5_loss: 0.5984 - dense_7_loss: 1.1012 - dense_9_loss: 0.8928 - dense_1_accuracy: 0.8544 - dense_3_accuracy: 0.7384 - dense_5_accuracy: 0.7706 - dense_7_accuracy: 0.6082 - dense_9_accuracy: 0.6804 - val_loss: 11.2046 - val_dense_1_loss: 4.7080 - val_dense_3_loss: 1.5298 - val_dense_5_loss: 1.5170 - val_dense_7_loss: 1.9385 - val_dense_9_loss: 1.5113 - val_dense_1_accuracy: 0.0155 - val_dense_3_accuracy: 0.8196 - val_dense_5_accuracy: 0.7629 - val_dense_7_accuracy: 0.7216 - val_dense_9_accuracy: 0.7216\n",
      "Epoch 14/30\n",
      "25/25 [==============================] - 4s 156ms/step - loss: 3.3915 - dense_1_loss: 0.2854 - dense_3_loss: 0.6850 - dense_5_loss: 0.5641 - dense_7_loss: 1.0606 - dense_9_loss: 0.7964 - dense_1_accuracy: 0.9021 - dense_3_accuracy: 0.7487 - dense_5_accuracy: 0.7912 - dense_7_accuracy: 0.6237 - dense_9_accuracy: 0.7062 - val_loss: 10.5812 - val_dense_1_loss: 4.8096 - val_dense_3_loss: 1.2616 - val_dense_5_loss: 1.3688 - val_dense_7_loss: 1.7823 - val_dense_9_loss: 1.3589 - val_dense_1_accuracy: 0.0412 - val_dense_3_accuracy: 0.8505 - val_dense_5_accuracy: 0.7423 - val_dense_7_accuracy: 0.7268 - val_dense_9_accuracy: 0.7320\n",
      "Epoch 15/30\n",
      "25/25 [==============================] - 4s 155ms/step - loss: 3.1533 - dense_1_loss: 0.3397 - dense_3_loss: 0.6096 - dense_5_loss: 0.5152 - dense_7_loss: 0.9132 - dense_9_loss: 0.7756 - dense_1_accuracy: 0.8814 - dense_3_accuracy: 0.7655 - dense_5_accuracy: 0.8222 - dense_7_accuracy: 0.6701 - dense_9_accuracy: 0.7332 - val_loss: 10.1195 - val_dense_1_loss: 5.0524 - val_dense_3_loss: 1.1607 - val_dense_5_loss: 1.1120 - val_dense_7_loss: 1.5579 - val_dense_9_loss: 1.2365 - val_dense_1_accuracy: 0.0309 - val_dense_3_accuracy: 0.8402 - val_dense_5_accuracy: 0.7629 - val_dense_7_accuracy: 0.6495 - val_dense_9_accuracy: 0.7835\n",
      "Epoch 16/30\n",
      "25/25 [==============================] - 4s 157ms/step - loss: 3.0151 - dense_1_loss: 0.2853 - dense_3_loss: 0.5894 - dense_5_loss: 0.4516 - dense_7_loss: 0.9505 - dense_9_loss: 0.7381 - dense_1_accuracy: 0.9021 - dense_3_accuracy: 0.7771 - dense_5_accuracy: 0.8286 - dense_7_accuracy: 0.6624 - dense_9_accuracy: 0.7216 - val_loss: 9.6312 - val_dense_1_loss: 5.0060 - val_dense_3_loss: 1.0438 - val_dense_5_loss: 1.0740 - val_dense_7_loss: 1.4188 - val_dense_9_loss: 1.0886 - val_dense_1_accuracy: 0.0825 - val_dense_3_accuracy: 0.8247 - val_dense_5_accuracy: 0.7680 - val_dense_7_accuracy: 0.7371 - val_dense_9_accuracy: 0.7526\n",
      "Epoch 17/30\n",
      "25/25 [==============================] - 4s 159ms/step - loss: 2.8554 - dense_1_loss: 0.2888 - dense_3_loss: 0.5219 - dense_5_loss: 0.5090 - dense_7_loss: 0.8766 - dense_9_loss: 0.6590 - dense_1_accuracy: 0.8995 - dense_3_accuracy: 0.8054 - dense_5_accuracy: 0.8106 - dense_7_accuracy: 0.6740 - dense_9_accuracy: 0.7668 - val_loss: 10.0458 - val_dense_1_loss: 6.1948 - val_dense_3_loss: 0.7812 - val_dense_5_loss: 0.9821 - val_dense_7_loss: 1.2126 - val_dense_9_loss: 0.8750 - val_dense_1_accuracy: 0.0155 - val_dense_3_accuracy: 0.8608 - val_dense_5_accuracy: 0.7629 - val_dense_7_accuracy: 0.7629 - val_dense_9_accuracy: 0.7887\n",
      "Epoch 18/30\n",
      "25/25 [==============================] - 4s 166ms/step - loss: 2.7063 - dense_1_loss: 0.2488 - dense_3_loss: 0.5170 - dense_5_loss: 0.4267 - dense_7_loss: 0.8412 - dense_9_loss: 0.6725 - dense_1_accuracy: 0.9085 - dense_3_accuracy: 0.8054 - dense_5_accuracy: 0.8428 - dense_7_accuracy: 0.6765 - dense_9_accuracy: 0.7629 - val_loss: 10.8855 - val_dense_1_loss: 7.3775 - val_dense_3_loss: 0.7030 - val_dense_5_loss: 0.8284 - val_dense_7_loss: 1.1591 - val_dense_9_loss: 0.8175 - val_dense_1_accuracy: 0.0464 - val_dense_3_accuracy: 0.8505 - val_dense_5_accuracy: 0.7887 - val_dense_7_accuracy: 0.7216 - val_dense_9_accuracy: 0.7990\n",
      "Epoch 19/30\n",
      "25/25 [==============================] - 4s 155ms/step - loss: 2.5644 - dense_1_loss: 0.2218 - dense_3_loss: 0.4799 - dense_5_loss: 0.4156 - dense_7_loss: 0.8240 - dense_9_loss: 0.6231 - dense_1_accuracy: 0.9085 - dense_3_accuracy: 0.8131 - dense_5_accuracy: 0.8415 - dense_7_accuracy: 0.6985 - dense_9_accuracy: 0.7732 - val_loss: 10.6448 - val_dense_1_loss: 7.4750 - val_dense_3_loss: 0.6836 - val_dense_5_loss: 0.8046 - val_dense_7_loss: 0.9242 - val_dense_9_loss: 0.7575 - val_dense_1_accuracy: 0.0773 - val_dense_3_accuracy: 0.8351 - val_dense_5_accuracy: 0.7990 - val_dense_7_accuracy: 0.7680 - val_dense_9_accuracy: 0.7577\n",
      "Epoch 20/30\n",
      "25/25 [==============================] - 4s 154ms/step - loss: 2.4679 - dense_1_loss: 0.2155 - dense_3_loss: 0.4939 - dense_5_loss: 0.3737 - dense_7_loss: 0.7732 - dense_9_loss: 0.6117 - dense_1_accuracy: 0.9162 - dense_3_accuracy: 0.8196 - dense_5_accuracy: 0.8557 - dense_7_accuracy: 0.6997 - dense_9_accuracy: 0.7835 - val_loss: 10.7652 - val_dense_1_loss: 7.9181 - val_dense_3_loss: 0.5766 - val_dense_5_loss: 0.7738 - val_dense_7_loss: 0.8302 - val_dense_9_loss: 0.6665 - val_dense_1_accuracy: 0.0361 - val_dense_3_accuracy: 0.8763 - val_dense_5_accuracy: 0.7680 - val_dense_7_accuracy: 0.7938 - val_dense_9_accuracy: 0.8041\n",
      "Epoch 21/30\n",
      "25/25 [==============================] - 4s 153ms/step - loss: 2.3397 - dense_1_loss: 0.2040 - dense_3_loss: 0.4475 - dense_5_loss: 0.3575 - dense_7_loss: 0.7349 - dense_9_loss: 0.5958 - dense_1_accuracy: 0.9227 - dense_3_accuracy: 0.8183 - dense_5_accuracy: 0.8673 - dense_7_accuracy: 0.7345 - dense_9_accuracy: 0.7758 - val_loss: 10.5713 - val_dense_1_loss: 7.7752 - val_dense_3_loss: 0.6070 - val_dense_5_loss: 0.7182 - val_dense_7_loss: 0.8259 - val_dense_9_loss: 0.6451 - val_dense_1_accuracy: 0.1186 - val_dense_3_accuracy: 0.8402 - val_dense_5_accuracy: 0.7887 - val_dense_7_accuracy: 0.7732 - val_dense_9_accuracy: 0.8041\n",
      "Epoch 22/30\n",
      "25/25 [==============================] - 4s 153ms/step - loss: 2.2254 - dense_1_loss: 0.1865 - dense_3_loss: 0.4642 - dense_5_loss: 0.3611 - dense_7_loss: 0.6464 - dense_9_loss: 0.5671 - dense_1_accuracy: 0.9291 - dense_3_accuracy: 0.8363 - dense_5_accuracy: 0.8673 - dense_7_accuracy: 0.7590 - dense_9_accuracy: 0.7925 - val_loss: 11.0566 - val_dense_1_loss: 8.3034 - val_dense_3_loss: 0.5429 - val_dense_5_loss: 0.7911 - val_dense_7_loss: 0.7844 - val_dense_9_loss: 0.6347 - val_dense_1_accuracy: 0.0515 - val_dense_3_accuracy: 0.8608 - val_dense_5_accuracy: 0.7526 - val_dense_7_accuracy: 0.7887 - val_dense_9_accuracy: 0.8144\n",
      "Epoch 23/30\n",
      "25/25 [==============================] - 4s 154ms/step - loss: 2.2810 - dense_1_loss: 0.1779 - dense_3_loss: 0.4475 - dense_5_loss: 0.4065 - dense_7_loss: 0.6559 - dense_9_loss: 0.5932 - dense_1_accuracy: 0.9330 - dense_3_accuracy: 0.8222 - dense_5_accuracy: 0.8582 - dense_7_accuracy: 0.7577 - dense_9_accuracy: 0.7706 - val_loss: 12.1703 - val_dense_1_loss: 9.7712 - val_dense_3_loss: 0.5143 - val_dense_5_loss: 0.6663 - val_dense_7_loss: 0.6866 - val_dense_9_loss: 0.5319 - val_dense_1_accuracy: 0.1546 - val_dense_3_accuracy: 0.8505 - val_dense_5_accuracy: 0.7938 - val_dense_7_accuracy: 0.7938 - val_dense_9_accuracy: 0.8402\n",
      "Epoch 24/30\n",
      "25/25 [==============================] - 4s 153ms/step - loss: 2.1104 - dense_1_loss: 0.1486 - dense_3_loss: 0.4377 - dense_5_loss: 0.3447 - dense_7_loss: 0.6566 - dense_9_loss: 0.5228 - dense_1_accuracy: 0.9394 - dense_3_accuracy: 0.8286 - dense_5_accuracy: 0.8724 - dense_7_accuracy: 0.7552 - dense_9_accuracy: 0.8003 - val_loss: 13.6426 - val_dense_1_loss: 10.9066 - val_dense_3_loss: 0.5028 - val_dense_5_loss: 0.8135 - val_dense_7_loss: 0.7537 - val_dense_9_loss: 0.6660 - val_dense_1_accuracy: 0.0619 - val_dense_3_accuracy: 0.8557 - val_dense_5_accuracy: 0.7784 - val_dense_7_accuracy: 0.7629 - val_dense_9_accuracy: 0.8093\n",
      "Epoch 25/30\n",
      "25/25 [==============================] - 4s 155ms/step - loss: 2.0130 - dense_1_loss: 0.1616 - dense_3_loss: 0.4259 - dense_5_loss: 0.3523 - dense_7_loss: 0.6104 - dense_9_loss: 0.4628 - dense_1_accuracy: 0.9433 - dense_3_accuracy: 0.8299 - dense_5_accuracy: 0.8634 - dense_7_accuracy: 0.7590 - dense_9_accuracy: 0.8222 - val_loss: 14.2246 - val_dense_1_loss: 11.6979 - val_dense_3_loss: 0.4954 - val_dense_5_loss: 0.8229 - val_dense_7_loss: 0.7154 - val_dense_9_loss: 0.4930 - val_dense_1_accuracy: 0.0670 - val_dense_3_accuracy: 0.8866 - val_dense_5_accuracy: 0.7835 - val_dense_7_accuracy: 0.7577 - val_dense_9_accuracy: 0.8557\n",
      "Epoch 26/30\n",
      "25/25 [==============================] - 4s 153ms/step - loss: 1.9262 - dense_1_loss: 0.1687 - dense_3_loss: 0.3831 - dense_5_loss: 0.3504 - dense_7_loss: 0.5455 - dense_9_loss: 0.4786 - dense_1_accuracy: 0.9394 - dense_3_accuracy: 0.8531 - dense_5_accuracy: 0.8673 - dense_7_accuracy: 0.7977 - dense_9_accuracy: 0.8235 - val_loss: 13.0918 - val_dense_1_loss: 10.4101 - val_dense_3_loss: 0.5312 - val_dense_5_loss: 0.8136 - val_dense_7_loss: 0.7228 - val_dense_9_loss: 0.6141 - val_dense_1_accuracy: 0.1495 - val_dense_3_accuracy: 0.8660 - val_dense_5_accuracy: 0.7938 - val_dense_7_accuracy: 0.7835 - val_dense_9_accuracy: 0.8144\n",
      "Epoch 27/30\n",
      "25/25 [==============================] - 4s 156ms/step - loss: 1.9173 - dense_1_loss: 0.1622 - dense_3_loss: 0.3543 - dense_5_loss: 0.3201 - dense_7_loss: 0.5426 - dense_9_loss: 0.5381 - dense_1_accuracy: 0.9356 - dense_3_accuracy: 0.8621 - dense_5_accuracy: 0.8853 - dense_7_accuracy: 0.8041 - dense_9_accuracy: 0.7874 - val_loss: 15.0962 - val_dense_1_loss: 12.2572 - val_dense_3_loss: 0.5190 - val_dense_5_loss: 0.9202 - val_dense_7_loss: 0.8253 - val_dense_9_loss: 0.5745 - val_dense_1_accuracy: 0.1701 - val_dense_3_accuracy: 0.8814 - val_dense_5_accuracy: 0.8041 - val_dense_7_accuracy: 0.7680 - val_dense_9_accuracy: 0.8196\n",
      "Epoch 28/30\n",
      "25/25 [==============================] - 4s 154ms/step - loss: 1.7948 - dense_1_loss: 0.1540 - dense_3_loss: 0.3430 - dense_5_loss: 0.2872 - dense_7_loss: 0.4965 - dense_9_loss: 0.5141 - dense_1_accuracy: 0.9369 - dense_3_accuracy: 0.8724 - dense_5_accuracy: 0.8866 - dense_7_accuracy: 0.8183 - dense_9_accuracy: 0.8131 - val_loss: 14.8140 - val_dense_1_loss: 12.0705 - val_dense_3_loss: 0.5264 - val_dense_5_loss: 0.9158 - val_dense_7_loss: 0.7844 - val_dense_9_loss: 0.5169 - val_dense_1_accuracy: 0.1546 - val_dense_3_accuracy: 0.9021 - val_dense_5_accuracy: 0.8144 - val_dense_7_accuracy: 0.7526 - val_dense_9_accuracy: 0.8454\n",
      "Epoch 29/30\n",
      "25/25 [==============================] - 4s 152ms/step - loss: 1.5944 - dense_1_loss: 0.1360 - dense_3_loss: 0.3445 - dense_5_loss: 0.2407 - dense_7_loss: 0.4747 - dense_9_loss: 0.3984 - dense_1_accuracy: 0.9472 - dense_3_accuracy: 0.8698 - dense_5_accuracy: 0.9059 - dense_7_accuracy: 0.8312 - dense_9_accuracy: 0.8531 - val_loss: 12.6834 - val_dense_1_loss: 10.0224 - val_dense_3_loss: 0.4717 - val_dense_5_loss: 0.9283 - val_dense_7_loss: 0.7117 - val_dense_9_loss: 0.5493 - val_dense_1_accuracy: 0.2474 - val_dense_3_accuracy: 0.9072 - val_dense_5_accuracy: 0.7990 - val_dense_7_accuracy: 0.7990 - val_dense_9_accuracy: 0.8299\n",
      "Epoch 30/30\n",
      "25/25 [==============================] - 4s 157ms/step - loss: 1.5238 - dense_1_loss: 0.1282 - dense_3_loss: 0.2721 - dense_5_loss: 0.2653 - dense_7_loss: 0.4831 - dense_9_loss: 0.3751 - dense_1_accuracy: 0.9510 - dense_3_accuracy: 0.8892 - dense_5_accuracy: 0.9072 - dense_7_accuracy: 0.8247 - dense_9_accuracy: 0.8505 - val_loss: 14.4706 - val_dense_1_loss: 11.8763 - val_dense_3_loss: 0.5393 - val_dense_5_loss: 0.8183 - val_dense_7_loss: 0.6749 - val_dense_9_loss: 0.5617 - val_dense_1_accuracy: 0.0773 - val_dense_3_accuracy: 0.8918 - val_dense_5_accuracy: 0.8041 - val_dense_7_accuracy: 0.7938 - val_dense_9_accuracy: 0.8299\n"
     ]
    }
   ],
   "source": [
    "#model = create_model()\n",
    "hist = model.fit(X_train, [y_train[0], y_train[1], y_train[2], y_train[3], y_train[4]], batch_size=32, epochs=30,verbose=1, validation_split=0.2)"
   ]
  },
  {
   "cell_type": "code",
   "execution_count": 8,
   "metadata": {
    "_uuid": "e2cf1d0b8ab4a293d3dc110eb85a0946333bb0b9"
   },
   "outputs": [],
   "source": [
    "# Define function to predict captcha\n",
    "def predict(filepath):\n",
    "    img = cv2.imread(filepath, cv2.IMREAD_GRAYSCALE)\n",
    "    if img is not None:\n",
    "        img = img / 255.0\n",
    "    else:\n",
    "        print(\"Not detected\");\n",
    "    res = np.array(model.predict(img[np.newaxis, :, :, np.newaxis]))\n",
    "    ans = np.reshape(res, (5, 36))\n",
    "    l_ind = []\n",
    "    probs = []\n",
    "    for a in ans:\n",
    "        l_ind.append(np.argmax(a))\n",
    "        #probs.append(np.max(a))\n",
    "\n",
    "    capt = ''\n",
    "    for l in l_ind:\n",
    "        capt += symbols[l]\n",
    "    return capt#, sum(probs) / 5\n",
    "\n"
   ]
  },
  {
   "cell_type": "code",
   "execution_count": 9,
   "metadata": {
    "_uuid": "ed22f3a33792928c9f74601b264d269361755e0b"
   },
   "outputs": [
    {
     "name": "stdout",
     "output_type": "stream",
     "text": [
      "4/4 [==============================] - 0s 24ms/step - loss: 18.6335 - dense_1_loss: 17.0061 - dense_3_loss: 0.2868 - dense_5_loss: 0.5099 - dense_7_loss: 0.5179 - dense_9_loss: 0.3128 - dense_1_accuracy: 0.0000e+00 - dense_3_accuracy: 0.9100 - dense_5_accuracy: 0.8500 - dense_7_accuracy: 0.8800 - dense_9_accuracy: 0.9000\n",
      "Test Loss and accuracy: [18.63353729248047, 17.006126403808594, 0.2867690324783325, 0.5099347829818726, 0.5178897380828857, 0.3128199279308319, 0.0, 0.9100000262260437, 0.8500000238418579, 0.8799999952316284, 0.8999999761581421]\n"
     ]
    }
   ],
   "source": [
    "score= model.evaluate(X_test,[y_test[0], y_test[1], y_test[2], y_test[3], y_test[4]],verbose=1)\n",
    "print('Test Loss and accuracy:', score)"
   ]
  },
  {
   "cell_type": "code",
   "execution_count": 10,
   "metadata": {},
   "outputs": [],
   "source": [
    "#Create a Drawing Function\n",
    "def show_train_history(train_history,train,validation,label):\n",
    "    #Write the code\n",
    "    plt.plot(train_history.history[train])\n",
    "    plt.plot(train_history.history[validation])\n",
    "    plt.title(\"Train History\")\n",
    "    plt.ylabel(label)\n",
    "    plt.xlabel(\"Epoch\")\n",
    "    plt.legend(['train','validation'],loc='upper left')\n",
    "    plt.show()"
   ]
  },
  {
   "cell_type": "code",
   "execution_count": 11,
   "metadata": {},
   "outputs": [
    {
     "data": {
      "image/png": "[encoded data removed]",
      "text/plain": [
       "<Figure size 432x288 with 1 Axes>"
      ]
     },
     "metadata": {
      "needs_background": "light"
     },
     "output_type": "display_data"
    },
    {
     "data": {
      "image/png": "[encoded data removed]",
      "text/plain": [
       "<Figure size 432x288 with 1 Axes>"
      ]
     },
     "metadata": {
      "needs_background": "light"
     },
     "output_type": "display_data"
    }
   ],
   "source": [
    "show_train_history(hist,'dense_9_accuracy','val_dense_9_accuracy','accuracy')\n",
    "show_train_history(hist,'dense_9_loss','val_dense_9_loss','loss')"
   ]
  },
  {
   "cell_type": "code",
   "execution_count": 12,
   "metadata": {
    "_uuid": "44002a5776a0b54067cc8ff9574c2fbdfc356068"
   },
   "outputs": [
    {
     "name": "stdout",
     "output_type": "stream",
     "text": [
      "4/4 [==============================] - 0s 23ms/step - loss: 18.6335 - dense_1_loss: 17.0061 - dense_3_loss: 0.2868 - dense_5_loss: 0.5099 - dense_7_loss: 0.5179 - dense_9_loss: 0.3128 - dense_1_accuracy: 0.0000e+00 - dense_3_accuracy: 0.9100 - dense_5_accuracy: 0.8500 - dense_7_accuracy: 0.8800 - dense_9_accuracy: 0.9000\n",
      "1/1 [==============================] - 0s 131ms/step\n",
      "8n5p3\n",
      "1/1 [==============================] - 0s 18ms/step\n",
      "f2m8n\n",
      "1/1 [==============================] - 0s 18ms/step\n",
      "dce8y\n",
      "1/1 [==============================] - 0s 18ms/step\n",
      "3eny7\n",
      "1/1 [==============================] - 0s 19ms/step\n",
      "npxb7\n"
     ]
    }
   ],
   "source": [
    "# Check model on some samples\n",
    "model.evaluate(X_test, [y_test[0], y_test[1], y_test[2], y_test[3], y_test[4]])\n",
    "print(predict('./input/captcha-version-2-images/8n5p3.png'))\n",
    "print(predict('./input/captcha-version-2-images/f2m8n.png'))\n",
    "print(predict('./input/captcha-version-2-images/dce8y.png'))\n",
    "print(predict('./input/captcha-version-2-images/3eny7.png'))\n",
    "print(predict('./input/captcha-version-2-images/npxb7.png'))"
   ]
  },
  {
   "cell_type": "code",
   "execution_count": 13,
   "metadata": {
    "_uuid": "1f7aa77001b1185404c45a928d2555c484c402b3"
   },
   "outputs": [
    {
     "data": {
      "text/plain": [
       "<matplotlib.image.AxesImage at 0x228c2fc97f0>"
      ]
     },
     "execution_count": 13,
     "metadata": {},
     "output_type": "execute_result"
    },
    {
     "data": {
      "image/png": "[encoded data removed]",
      "text/plain": [
       "<Figure size 432x288 with 1 Axes>"
      ]
     },
     "metadata": {
      "needs_background": "light"
     },
     "output_type": "display_data"
    }
   ],
   "source": [
    "#Lets test an unknown captcha\n",
    "#preview\n",
    "%matplotlib inline \n",
    "import matplotlib.pyplot as plt\n",
    "img=cv2.imread('./input/capthaimages/a.png',cv2.IMREAD_GRAYSCALE)\n",
    "plt.imshow(img, cmap=plt.get_cmap('gray'))"
   ]
  },
  {
   "cell_type": "code",
   "execution_count": 14,
   "metadata": {
    "_uuid": "c9ac975ea5aae3b03c23204d7e32a534c2db19d0"
   },
   "outputs": [
    {
     "name": "stdout",
     "output_type": "stream",
     "text": [
      "1/1 [==============================] - 0s 20ms/step\n",
      "Predicted Captcha = 2cegf\n"
     ]
    }
   ],
   "source": [
    "#Lets Predict By Model\n",
    "print(\"Predicted Captcha =\",predict('./input/capthaimages/a.png'))"
   ]
  },
  {
   "cell_type": "code",
   "execution_count": 15,
   "metadata": {
    "_uuid": "06940ca0d54ec7944e926b67232334830884a308"
   },
   "outputs": [],
   "source": [
    "#testing\n",
    "#c=0\n",
    "#for i, pic in enumerate(os.listdir('../input/captcha-version-2-images/samples/samples')):\n",
    "        # Read image as grayscale\n",
    "        \n",
    "        #if i>970:    \n",
    "\n",
    "            #img = cv2.imread(os.path.join('../input/captcha-version-2-images/samples/samples', pic), cv2.IMREAD_GRAYSCALE)\n",
    "            #print(\"Predicted Captcha =\",predict(os.path.join('../input/captcha-version-2-images/samples/samples',pic)))\n",
    "            #plt.imshow(img, cmap=plt.get_cmap('gray'))\n",
    "            #pr=predict(os.path.join('../input/captcha-version-2-images/samples/samples',pic))\n",
    "            #pic_target = pic[:-4]\n",
    "            #if pr==pic_target:\n",
    "                #c=c+1\n",
    "                #print(c)\n",
    "            #print(pic_target)\n",
    "#print((c/100)*100)"
   ]
  },
  {
   "cell_type": "code",
   "execution_count": null,
   "metadata": {
    "_uuid": "1c7d6e4f3407125d1bb3425efeaf31522a579abb"
   },
   "outputs": [],
   "source": []
  }
 ],
 "metadata": {
  "kernelspec": {
   "display_name": "base",
   "language": "python",
   "name": "python3"
  },
  "language_info": {
   "codemirror_mode": {
    "name": "ipython",
    "version": 3
   },
   "file_extension": ".py",
   "mimetype": "text/x-python",
   "name": "python",
   "nbconvert_exporter": "python",
   "pygments_lexer": "ipython3",
   "version": "3.9.12 (main, Apr  4 2022, 05:22:27) [MSC v.1916 64 bit (AMD64)]"
  },
  "vscode": {
   "interpreter": {
    "hash": "9d5dd78f91e285434bdfd3812ac847ce07641773b2db0771169a092c3f928e02"
   }
  }
 },
 "nbformat": 4,
 "nbformat_minor": 4
}
