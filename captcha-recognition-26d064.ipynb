{
 "cells": [
  {
   "cell_type": "code",
   "execution_count": 2,
   "metadata": {
    "_cell_guid": "b1076dfc-b9ad-4769-8c92-a6c4dae69d19",
    "_uuid": "8f2839f25d086af736a60e9eeb907d3b93b6e0e5"
   },
   "outputs": [
    {
     "name": "stdout",
     "output_type": "stream",
     "text": [
      "['captcha-version-2-images', 'capthaimages']\n"
     ]
    }
   ],
   "source": [
    "# This Python 3 environment comes with many helpful analytics libraries installed\n",
    "# It is defined by the kaggle/python docker image: https://github.com/kaggle/docker-python\n",
    "# For example, here's several helpful packages to load in \n",
    "\n",
    "import numpy as np # linear algebra\n",
    "import pandas as pd # data processing, CSV file I/O (e.g. pd.read_csv)\n",
    "# Input data files are available in the \"../input/\" directory.http://localhost:8925/notebooks/OneDrive/Desktop/Computer_Vision_finalPJ/captcha-recognition-26d064.ipynb#\n",
    "# For example, running this (by clicking run or pressing Shift+Enter) will list the files in the input directory\n",
    "%matplotlib inline \n",
    "import matplotlib.pyplot as plt\n",
    "import os\n",
    "print(os.listdir(\"./input\"))\n",
    "\n",
    "# Any results you write to the current directory are saved as output."
   ]
  },
  {
   "cell_type": "code",
   "execution_count": 3,
   "metadata": {
    "_uuid": "1fdd3e1588206ff8c65ec7cf8ac41c5360a5c00a"
   },
   "outputs": [],
   "source": [
    "from keras import layers\n",
    "from keras.models import Model\n",
    "from keras.models import load_model\n",
    "from keras import callbacks\n",
    "import os\n",
    "import cv2\n",
    "import string\n",
    "import numpy as np\n",
    "\n",
    "#Init main values\n",
    "symbols = string.ascii_lowercase + \"0123456789\" # All symbols captcha can contain\n",
    "num_symbols = len(symbols)\n",
    "img_shape = (50, 200, 1)"
   ]
  },
  {
   "cell_type": "code",
   "execution_count": 4,
   "metadata": {
    "_uuid": "a84cb6138839a96688013722a585658859150dd8"
   },
   "outputs": [
    {
     "name": "stdout",
     "output_type": "stream",
     "text": [
      "36\n"
     ]
    }
   ],
   "source": [
    "print(num_symbols)"
   ]
  },
  {
   "cell_type": "code",
   "execution_count": 5,
   "metadata": {
    "_uuid": "46c8b77c16307b91a561dd2b3c82d894063671b8"
   },
   "outputs": [],
   "source": [
    "def create_model():\n",
    "    img = layers.Input(shape=img_shape) # Get image as an input and process it through some Convs\n",
    "    conv1 = layers.Conv2D(16, (3, 3), padding='same', activation='relu')(img)\n",
    "    mp1 = layers.MaxPooling2D(padding='same')(conv1)  # 100x25\n",
    "    conv2 = layers.Conv2D(32, (3, 3), padding='same', activation='relu')(mp1)\n",
    "    mp2 = layers.MaxPooling2D(padding='same')(conv2)  # 50x13\n",
    "    conv3 = layers.Conv2D(32, (3, 3), padding='same', activation='relu')(mp2)\n",
    "    bn = layers.BatchNormalization()(conv3)\n",
    "    mp3 = layers.MaxPooling2D(padding='same')(bn)  # 25x7\n",
    "    \n",
    "    # Get flattened vector and make 5 branches from it. Each branch will predict one letter\n",
    "    flat = layers.Flatten()(mp3)\n",
    "    outs = []\n",
    "    for _ in range(5):\n",
    "        dens1 = layers.Dense(64, activation='relu')(flat)\n",
    "        drop = layers.Dropout(0.5)(dens1)\n",
    "        res = layers.Dense(num_symbols, activation='sigmoid')(drop)\n",
    "\n",
    "        outs.append(res)\n",
    "    \n",
    "    # Compile model and return it\n",
    "    model = Model(img, outs)\n",
    "    model.compile(loss='categorical_crossentropy', optimizer='adam',metrics=[\"accuracy\"])\n",
    "    return model"
   ]
  },
  {
   "cell_type": "code",
   "execution_count": 7,
   "metadata": {
    "_uuid": "4dccb0ee2eb679f4b7e7d1a92b52d643ac02ff3e"
   },
   "outputs": [],
   "source": [
    "def preprocess_data():\n",
    "    n_samples = len(os.listdir('./input/captcha-version-2-images'))\n",
    "    X = np.zeros((n_samples, 50, 200, 1)) #1070*50*200\n",
    "    y = np.zeros((5, n_samples, num_symbols)) #5*1070*36\n",
    "\n",
    "    for i, pic in enumerate(os.listdir('./input/captcha-version-2-images')):\n",
    "        # Read image as grayscale\n",
    "        img = cv2.imread(os.path.join('./input/captcha-version-2-images', pic), cv2.IMREAD_GRAYSCALE)\n",
    "        pic_target = pic[:-4]\n",
    "        if len(pic_target) < 6:\n",
    "            # Scale and reshape image\n",
    "            img = img / 255.0\n",
    "            img = np.reshape(img, (50, 200, 1))\n",
    "            # Define targets and code them using OneHotEncoding\n",
    "            targs = np.zeros((5, num_symbols))\n",
    "            for j, l in enumerate(pic_target):\n",
    "                ind = symbols.find(l)\n",
    "                targs[j, ind] = 1\n",
    "            X[i] = img\n",
    "            y[:, i] = targs\n",
    "    \n",
    "    # Return final data\n",
    "    return X, y\n",
    "\n",
    "X, y = preprocess_data()\n",
    "X_train, y_train = X[:970], y[:, :970]\n",
    "X_test, y_test = X[970:], y[:, 970:]"
   ]
  },
  {
   "cell_type": "code",
   "execution_count": 8,
   "metadata": {
    "_uuid": "834999810cccd5d867f87b26b4b6e89d87a3092f"
   },
   "outputs": [
    {
     "name": "stdout",
     "output_type": "stream",
     "text": [
      "Model: \"model\"\n",
      "__________________________________________________________________________________________________\n",
      " Layer (type)                   Output Shape         Param #     Connected to                     \n",
      "==================================================================================================\n",
      " input_1 (InputLayer)           [(None, 50, 200, 1)  0           []                               \n",
      "                                ]                                                                 \n",
      "                                                                                                  \n",
      " conv2d (Conv2D)                (None, 50, 200, 16)  160         ['input_1[0][0]']                \n",
      "                                                                                                  \n",
      " max_pooling2d (MaxPooling2D)   (None, 25, 100, 16)  0           ['conv2d[0][0]']                 \n",
      "                                                                                                  \n",
      " conv2d_1 (Conv2D)              (None, 25, 100, 32)  4640        ['max_pooling2d[0][0]']          \n",
      "                                                                                                  \n",
      " max_pooling2d_1 (MaxPooling2D)  (None, 13, 50, 32)  0           ['conv2d_1[0][0]']               \n",
      "                                                                                                  \n",
      " conv2d_2 (Conv2D)              (None, 13, 50, 32)   9248        ['max_pooling2d_1[0][0]']        \n",
      "                                                                                                  \n",
      " batch_normalization (BatchNorm  (None, 13, 50, 32)  128         ['conv2d_2[0][0]']               \n",
      " alization)                                                                                       \n",
      "                                                                                                  \n",
      " max_pooling2d_2 (MaxPooling2D)  (None, 7, 25, 32)   0           ['batch_normalization[0][0]']    \n",
      "                                                                                                  \n",
      " flatten (Flatten)              (None, 5600)         0           ['max_pooling2d_2[0][0]']        \n",
      "                                                                                                  \n",
      " dense (Dense)                  (None, 64)           358464      ['flatten[0][0]']                \n",
      "                                                                                                  \n",
      " dense_2 (Dense)                (None, 64)           358464      ['flatten[0][0]']                \n",
      "                                                                                                  \n",
      " dense_4 (Dense)                (None, 64)           358464      ['flatten[0][0]']                \n",
      "                                                                                                  \n",
      " dense_6 (Dense)                (None, 64)           358464      ['flatten[0][0]']                \n",
      "                                                                                                  \n",
      " dense_8 (Dense)                (None, 64)           358464      ['flatten[0][0]']                \n",
      "                                                                                                  \n",
      " dropout (Dropout)              (None, 64)           0           ['dense[0][0]']                  \n",
      "                                                                                                  \n",
      " dropout_1 (Dropout)            (None, 64)           0           ['dense_2[0][0]']                \n",
      "                                                                                                  \n",
      " dropout_2 (Dropout)            (None, 64)           0           ['dense_4[0][0]']                \n",
      "                                                                                                  \n",
      " dropout_3 (Dropout)            (None, 64)           0           ['dense_6[0][0]']                \n",
      "                                                                                                  \n",
      " dropout_4 (Dropout)            (None, 64)           0           ['dense_8[0][0]']                \n",
      "                                                                                                  \n",
      " dense_1 (Dense)                (None, 36)           2340        ['dropout[0][0]']                \n",
      "                                                                                                  \n",
      " dense_3 (Dense)                (None, 36)           2340        ['dropout_1[0][0]']              \n",
      "                                                                                                  \n",
      " dense_5 (Dense)                (None, 36)           2340        ['dropout_2[0][0]']              \n",
      "                                                                                                  \n",
      " dense_7 (Dense)                (None, 36)           2340        ['dropout_3[0][0]']              \n",
      "                                                                                                  \n",
      " dense_9 (Dense)                (None, 36)           2340        ['dropout_4[0][0]']              \n",
      "                                                                                                  \n",
      "==================================================================================================\n",
      "Total params: 1,818,196\n",
      "Trainable params: 1,818,132\n",
      "Non-trainable params: 64\n",
      "__________________________________________________________________________________________________\n"
     ]
    }
   ],
   "source": [
    "model=create_model();\n",
    "model.summary();"
   ]
  },
  {
   "cell_type": "code",
   "execution_count": 9,
   "metadata": {
    "_uuid": "e82754ff49c3cec708b87947c417566a252d3c12"
   },
   "outputs": [
    {
     "name": "stdout",
     "output_type": "stream",
     "text": [
      "Epoch 1/30\n",
      "25/25 [==============================] - 5s 149ms/step - loss: 17.8223 - dense_1_loss: 3.4513 - dense_3_loss: 3.5406 - dense_5_loss: 3.5442 - dense_7_loss: 3.6602 - dense_9_loss: 3.6259 - dense_1_accuracy: 0.0696 - dense_3_accuracy: 0.0580 - dense_5_accuracy: 0.0541 - dense_7_accuracy: 0.0606 - dense_9_accuracy: 0.0515 - val_loss: 17.6640 - val_dense_1_loss: 3.5248 - val_dense_3_loss: 3.5399 - val_dense_5_loss: 3.5061 - val_dense_7_loss: 3.5423 - val_dense_9_loss: 3.5509 - val_dense_1_accuracy: 0.0000e+00 - val_dense_3_accuracy: 0.0567 - val_dense_5_accuracy: 0.0722 - val_dense_7_accuracy: 0.0567 - val_dense_9_accuracy: 0.1495\n",
      "Epoch 2/30\n",
      "25/25 [==============================] - 3s 126ms/step - loss: 16.6045 - dense_1_loss: 3.0181 - dense_3_loss: 3.3221 - dense_5_loss: 3.3221 - dense_7_loss: 3.4895 - dense_9_loss: 3.4527 - dense_1_accuracy: 0.1186 - dense_3_accuracy: 0.0915 - dense_5_accuracy: 0.0799 - dense_7_accuracy: 0.0631 - dense_9_accuracy: 0.0902 - val_loss: 17.5954 - val_dense_1_loss: 3.5917 - val_dense_3_loss: 3.4991 - val_dense_5_loss: 3.4745 - val_dense_7_loss: 3.5102 - val_dense_9_loss: 3.5199 - val_dense_1_accuracy: 0.0000e+00 - val_dense_3_accuracy: 0.1443 - val_dense_5_accuracy: 0.0928 - val_dense_7_accuracy: 0.0361 - val_dense_9_accuracy: 0.1392\n",
      "Epoch 3/30\n",
      "25/25 [==============================] - 3s 126ms/step - loss: 15.5108 - dense_1_loss: 2.5266 - dense_3_loss: 3.1354 - dense_5_loss: 3.0965 - dense_7_loss: 3.3898 - dense_9_loss: 3.3625 - dense_1_accuracy: 0.2216 - dense_3_accuracy: 0.1031 - dense_5_accuracy: 0.1289 - dense_7_accuracy: 0.0863 - dense_9_accuracy: 0.0786 - val_loss: 17.6048 - val_dense_1_loss: 3.5973 - val_dense_3_loss: 3.4751 - val_dense_5_loss: 3.4981 - val_dense_7_loss: 3.5178 - val_dense_9_loss: 3.5165 - val_dense_1_accuracy: 0.0000e+00 - val_dense_3_accuracy: 0.1753 - val_dense_5_accuracy: 0.1598 - val_dense_7_accuracy: 0.0670 - val_dense_9_accuracy: 0.1392\n",
      "Epoch 4/30\n",
      "25/25 [==============================] - 3s 132ms/step - loss: 14.1357 - dense_1_loss: 1.9651 - dense_3_loss: 2.8388 - dense_5_loss: 2.7907 - dense_7_loss: 3.2652 - dense_9_loss: 3.2758 - dense_1_accuracy: 0.3608 - dense_3_accuracy: 0.1649 - dense_5_accuracy: 0.1843 - dense_7_accuracy: 0.0825 - dense_9_accuracy: 0.0812 - val_loss: 17.4246 - val_dense_1_loss: 3.5864 - val_dense_3_loss: 3.4200 - val_dense_5_loss: 3.4452 - val_dense_7_loss: 3.5065 - val_dense_9_loss: 3.4665 - val_dense_1_accuracy: 0.0000e+00 - val_dense_3_accuracy: 0.2887 - val_dense_5_accuracy: 0.2423 - val_dense_7_accuracy: 0.0876 - val_dense_9_accuracy: 0.1031\n",
      "Epoch 5/30\n",
      "25/25 [==============================] - 3s 131ms/step - loss: 12.8268 - dense_1_loss: 1.5745 - dense_3_loss: 2.5716 - dense_5_loss: 2.5002 - dense_7_loss: 3.1023 - dense_9_loss: 3.0782 - dense_1_accuracy: 0.4768 - dense_3_accuracy: 0.2255 - dense_5_accuracy: 0.2590 - dense_7_accuracy: 0.1031 - dense_9_accuracy: 0.1044 - val_loss: 17.1147 - val_dense_1_loss: 3.5748 - val_dense_3_loss: 3.3326 - val_dense_5_loss: 3.3572 - val_dense_7_loss: 3.4414 - val_dense_9_loss: 3.4087 - val_dense_1_accuracy: 0.0000e+00 - val_dense_3_accuracy: 0.4175 - val_dense_5_accuracy: 0.3247 - val_dense_7_accuracy: 0.1546 - val_dense_9_accuracy: 0.1649\n",
      "Epoch 6/30\n",
      "25/25 [==============================] - 3s 120ms/step - loss: 11.7837 - dense_1_loss: 1.2482 - dense_3_loss: 2.3619 - dense_5_loss: 2.3014 - dense_7_loss: 2.9048 - dense_9_loss: 2.9674 - dense_1_accuracy: 0.5477 - dense_3_accuracy: 0.2835 - dense_5_accuracy: 0.2680 - dense_7_accuracy: 0.1405 - dense_9_accuracy: 0.1430 - val_loss: 16.6177 - val_dense_1_loss: 3.5530 - val_dense_3_loss: 3.1765 - val_dense_5_loss: 3.1793 - val_dense_7_loss: 3.3309 - val_dense_9_loss: 3.3780 - val_dense_1_accuracy: 0.0000e+00 - val_dense_3_accuracy: 0.4794 - val_dense_5_accuracy: 0.4381 - val_dense_7_accuracy: 0.1701 - val_dense_9_accuracy: 0.2268\n",
      "Epoch 7/30\n",
      "25/25 [==============================] - 3s 123ms/step - loss: 10.9105 - dense_1_loss: 1.0237 - dense_3_loss: 2.1603 - dense_5_loss: 2.1649 - dense_7_loss: 2.7685 - dense_9_loss: 2.7932 - dense_1_accuracy: 0.6353 - dense_3_accuracy: 0.2874 - dense_5_accuracy: 0.3041 - dense_7_accuracy: 0.1791 - dense_9_accuracy: 0.1624 - val_loss: 16.2345 - val_dense_1_loss: 3.6522 - val_dense_3_loss: 3.0391 - val_dense_5_loss: 3.0662 - val_dense_7_loss: 3.2749 - val_dense_9_loss: 3.2022 - val_dense_1_accuracy: 0.0000e+00 - val_dense_3_accuracy: 0.5464 - val_dense_5_accuracy: 0.4175 - val_dense_7_accuracy: 0.2990 - val_dense_9_accuracy: 0.2526\n",
      "Epoch 8/30\n",
      "25/25 [==============================] - 3s 122ms/step - loss: 9.6240 - dense_1_loss: 0.7821 - dense_3_loss: 1.8407 - dense_5_loss: 1.9350 - dense_7_loss: 2.5562 - dense_9_loss: 2.5100 - dense_1_accuracy: 0.7075 - dense_3_accuracy: 0.3711 - dense_5_accuracy: 0.3802 - dense_7_accuracy: 0.2139 - dense_9_accuracy: 0.2564 - val_loss: 15.5896 - val_dense_1_loss: 3.5219 - val_dense_3_loss: 2.7488 - val_dense_5_loss: 2.9549 - val_dense_7_loss: 3.1709 - val_dense_9_loss: 3.1931 - val_dense_1_accuracy: 0.0155 - val_dense_3_accuracy: 0.5979 - val_dense_5_accuracy: 0.3918 - val_dense_7_accuracy: 0.3557 - val_dense_9_accuracy: 0.3196\n",
      "Epoch 9/30\n",
      "25/25 [==============================] - 3s 127ms/step - loss: 8.4761 - dense_1_loss: 0.7429 - dense_3_loss: 1.4742 - dense_5_loss: 1.7339 - dense_7_loss: 2.2817 - dense_9_loss: 2.2433 - dense_1_accuracy: 0.7332 - dense_3_accuracy: 0.4794 - dense_5_accuracy: 0.4317 - dense_7_accuracy: 0.2912 - dense_9_accuracy: 0.3209 - val_loss: 15.2350 - val_dense_1_loss: 3.5645 - val_dense_3_loss: 2.7161 - val_dense_5_loss: 2.8524 - val_dense_7_loss: 3.0699 - val_dense_9_loss: 3.0321 - val_dense_1_accuracy: 0.0361 - val_dense_3_accuracy: 0.6082 - val_dense_5_accuracy: 0.5258 - val_dense_7_accuracy: 0.3918 - val_dense_9_accuracy: 0.3402\n",
      "Epoch 10/30\n",
      "25/25 [==============================] - 3s 130ms/step - loss: 7.5979 - dense_1_loss: 0.5811 - dense_3_loss: 1.2689 - dense_5_loss: 1.6322 - dense_7_loss: 2.0677 - dense_9_loss: 2.0480 - dense_1_accuracy: 0.7848 - dense_3_accuracy: 0.5670 - dense_5_accuracy: 0.4536 - dense_7_accuracy: 0.3518 - dense_9_accuracy: 0.3454 - val_loss: 14.1315 - val_dense_1_loss: 3.4647 - val_dense_3_loss: 2.3561 - val_dense_5_loss: 2.6190 - val_dense_7_loss: 2.9050 - val_dense_9_loss: 2.7867 - val_dense_1_accuracy: 0.0773 - val_dense_3_accuracy: 0.7010 - val_dense_5_accuracy: 0.6289 - val_dense_7_accuracy: 0.4691 - val_dense_9_accuracy: 0.4948\n",
      "Epoch 11/30\n",
      "25/25 [==============================] - 3s 122ms/step - loss: 6.6859 - dense_1_loss: 0.4921 - dense_3_loss: 1.0283 - dense_5_loss: 1.4223 - dense_7_loss: 1.8995 - dense_9_loss: 1.8437 - dense_1_accuracy: 0.8338 - dense_3_accuracy: 0.6430 - dense_5_accuracy: 0.5077 - dense_7_accuracy: 0.3814 - dense_9_accuracy: 0.3918 - val_loss: 13.7117 - val_dense_1_loss: 3.7509 - val_dense_3_loss: 2.0915 - val_dense_5_loss: 2.5035 - val_dense_7_loss: 2.7467 - val_dense_9_loss: 2.6191 - val_dense_1_accuracy: 0.0052 - val_dense_3_accuracy: 0.7629 - val_dense_5_accuracy: 0.6082 - val_dense_7_accuracy: 0.5515 - val_dense_9_accuracy: 0.4588\n",
      "Epoch 12/30\n",
      "25/25 [==============================] - 3s 120ms/step - loss: 6.0875 - dense_1_loss: 0.4409 - dense_3_loss: 0.9017 - dense_5_loss: 1.3693 - dense_7_loss: 1.7310 - dense_9_loss: 1.6446 - dense_1_accuracy: 0.8376 - dense_3_accuracy: 0.6933 - dense_5_accuracy: 0.5438 - dense_7_accuracy: 0.4433 - dense_9_accuracy: 0.4343 - val_loss: 12.8286 - val_dense_1_loss: 3.9157 - val_dense_3_loss: 1.8260 - val_dense_5_loss: 2.2483 - val_dense_7_loss: 2.4514 - val_dense_9_loss: 2.3873 - val_dense_1_accuracy: 0.0000e+00 - val_dense_3_accuracy: 0.7784 - val_dense_5_accuracy: 0.5979 - val_dense_7_accuracy: 0.5722 - val_dense_9_accuracy: 0.5206\n",
      "Epoch 13/30\n",
      "25/25 [==============================] - 3s 121ms/step - loss: 5.4335 - dense_1_loss: 0.3545 - dense_3_loss: 0.7970 - dense_5_loss: 1.2637 - dense_7_loss: 1.5428 - dense_9_loss: 1.4755 - dense_1_accuracy: 0.8724 - dense_3_accuracy: 0.7126 - dense_5_accuracy: 0.5683 - dense_7_accuracy: 0.4755 - dense_9_accuracy: 0.4832 - val_loss: 11.9774 - val_dense_1_loss: 3.9295 - val_dense_3_loss: 1.5052 - val_dense_5_loss: 2.1276 - val_dense_7_loss: 2.2444 - val_dense_9_loss: 2.1706 - val_dense_1_accuracy: 0.0103 - val_dense_3_accuracy: 0.7474 - val_dense_5_accuracy: 0.6340 - val_dense_7_accuracy: 0.6134 - val_dense_9_accuracy: 0.5619\n"
     ]
    },
    {
     "name": "stdout",
     "output_type": "stream",
     "text": [
      "Epoch 14/30\n",
      "25/25 [==============================] - 3s 127ms/step - loss: 4.7175 - dense_1_loss: 0.2928 - dense_3_loss: 0.6899 - dense_5_loss: 1.1107 - dense_7_loss: 1.3652 - dense_9_loss: 1.2589 - dense_1_accuracy: 0.8905 - dense_3_accuracy: 0.7552 - dense_5_accuracy: 0.6198 - dense_7_accuracy: 0.5374 - dense_9_accuracy: 0.5760 - val_loss: 11.8592 - val_dense_1_loss: 4.7698 - val_dense_3_loss: 1.2915 - val_dense_5_loss: 1.7995 - val_dense_7_loss: 2.0415 - val_dense_9_loss: 1.9569 - val_dense_1_accuracy: 0.0103 - val_dense_3_accuracy: 0.8041 - val_dense_5_accuracy: 0.6907 - val_dense_7_accuracy: 0.6237 - val_dense_9_accuracy: 0.5103\n",
      "Epoch 15/30\n",
      "25/25 [==============================] - 3s 129ms/step - loss: 4.2985 - dense_1_loss: 0.2075 - dense_3_loss: 0.6736 - dense_5_loss: 1.0010 - dense_7_loss: 1.2608 - dense_9_loss: 1.1556 - dense_1_accuracy: 0.9304 - dense_3_accuracy: 0.7461 - dense_5_accuracy: 0.6508 - dense_7_accuracy: 0.5889 - dense_9_accuracy: 0.5838 - val_loss: 11.1331 - val_dense_1_loss: 4.9555 - val_dense_3_loss: 1.0437 - val_dense_5_loss: 1.5342 - val_dense_7_loss: 1.8940 - val_dense_9_loss: 1.7057 - val_dense_1_accuracy: 0.0773 - val_dense_3_accuracy: 0.8093 - val_dense_5_accuracy: 0.7216 - val_dense_7_accuracy: 0.6753 - val_dense_9_accuracy: 0.5773\n",
      "Epoch 16/30\n",
      "25/25 [==============================] - 3s 125ms/step - loss: 3.9549 - dense_1_loss: 0.2006 - dense_3_loss: 0.6018 - dense_5_loss: 0.9033 - dense_7_loss: 1.1467 - dense_9_loss: 1.1025 - dense_1_accuracy: 0.9472 - dense_3_accuracy: 0.7848 - dense_5_accuracy: 0.6791 - dense_7_accuracy: 0.5966 - dense_9_accuracy: 0.6211 - val_loss: 10.7690 - val_dense_1_loss: 5.5387 - val_dense_3_loss: 0.8674 - val_dense_5_loss: 1.4634 - val_dense_7_loss: 1.4293 - val_dense_9_loss: 1.4701 - val_dense_1_accuracy: 0.0464 - val_dense_3_accuracy: 0.8299 - val_dense_5_accuracy: 0.7268 - val_dense_7_accuracy: 0.7423 - val_dense_9_accuracy: 0.6598\n",
      "Epoch 17/30\n",
      "25/25 [==============================] - 3s 119ms/step - loss: 3.6509 - dense_1_loss: 0.2257 - dense_3_loss: 0.5665 - dense_5_loss: 0.8495 - dense_7_loss: 0.9946 - dense_9_loss: 1.0145 - dense_1_accuracy: 0.9214 - dense_3_accuracy: 0.8041 - dense_5_accuracy: 0.7101 - dense_7_accuracy: 0.6559 - dense_9_accuracy: 0.6379 - val_loss: 10.1015 - val_dense_1_loss: 5.1923 - val_dense_3_loss: 0.8281 - val_dense_5_loss: 1.3273 - val_dense_7_loss: 1.3755 - val_dense_9_loss: 1.3782 - val_dense_1_accuracy: 0.0567 - val_dense_3_accuracy: 0.8351 - val_dense_5_accuracy: 0.7010 - val_dense_7_accuracy: 0.7165 - val_dense_9_accuracy: 0.7010\n",
      "Epoch 18/30\n",
      "25/25 [==============================] - 3s 120ms/step - loss: 3.2435 - dense_1_loss: 0.1843 - dense_3_loss: 0.4913 - dense_5_loss: 0.7549 - dense_7_loss: 0.8806 - dense_9_loss: 0.9324 - dense_1_accuracy: 0.9330 - dense_3_accuracy: 0.8170 - dense_5_accuracy: 0.7345 - dense_7_accuracy: 0.6778 - dense_9_accuracy: 0.6649 - val_loss: 9.8378 - val_dense_1_loss: 5.5445 - val_dense_3_loss: 0.7481 - val_dense_5_loss: 1.2199 - val_dense_7_loss: 1.1933 - val_dense_9_loss: 1.1320 - val_dense_1_accuracy: 0.1495 - val_dense_3_accuracy: 0.8299 - val_dense_5_accuracy: 0.7216 - val_dense_7_accuracy: 0.7680 - val_dense_9_accuracy: 0.7320\n",
      "Epoch 19/30\n",
      "25/25 [==============================] - 3s 123ms/step - loss: 2.9888 - dense_1_loss: 0.1627 - dense_3_loss: 0.4287 - dense_5_loss: 0.7194 - dense_7_loss: 0.7608 - dense_9_loss: 0.9171 - dense_1_accuracy: 0.9369 - dense_3_accuracy: 0.8441 - dense_5_accuracy: 0.7397 - dense_7_accuracy: 0.7448 - dense_9_accuracy: 0.6495 - val_loss: 10.9997 - val_dense_1_loss: 7.2922 - val_dense_3_loss: 0.6380 - val_dense_5_loss: 1.0050 - val_dense_7_loss: 1.0749 - val_dense_9_loss: 0.9896 - val_dense_1_accuracy: 0.1340 - val_dense_3_accuracy: 0.8299 - val_dense_5_accuracy: 0.7629 - val_dense_7_accuracy: 0.7165 - val_dense_9_accuracy: 0.6959\n",
      "Epoch 20/30\n",
      "25/25 [==============================] - 3s 128ms/step - loss: 2.8579 - dense_1_loss: 0.1613 - dense_3_loss: 0.4539 - dense_5_loss: 0.7351 - dense_7_loss: 0.7489 - dense_9_loss: 0.7587 - dense_1_accuracy: 0.9433 - dense_3_accuracy: 0.8402 - dense_5_accuracy: 0.7461 - dense_7_accuracy: 0.7358 - dense_9_accuracy: 0.7062 - val_loss: 9.6359 - val_dense_1_loss: 6.0768 - val_dense_3_loss: 0.6309 - val_dense_5_loss: 1.0315 - val_dense_7_loss: 1.0052 - val_dense_9_loss: 0.8915 - val_dense_1_accuracy: 0.1959 - val_dense_3_accuracy: 0.8402 - val_dense_5_accuracy: 0.7526 - val_dense_7_accuracy: 0.7526 - val_dense_9_accuracy: 0.7629\n",
      "Epoch 21/30\n",
      "25/25 [==============================] - 3s 131ms/step - loss: 2.5165 - dense_1_loss: 0.1372 - dense_3_loss: 0.4247 - dense_5_loss: 0.6259 - dense_7_loss: 0.6755 - dense_9_loss: 0.6532 - dense_1_accuracy: 0.9485 - dense_3_accuracy: 0.8260 - dense_5_accuracy: 0.7771 - dense_7_accuracy: 0.7564 - dense_9_accuracy: 0.7577 - val_loss: 12.3145 - val_dense_1_loss: 8.8701 - val_dense_3_loss: 0.6312 - val_dense_5_loss: 1.0608 - val_dense_7_loss: 0.8947 - val_dense_9_loss: 0.8576 - val_dense_1_accuracy: 0.0619 - val_dense_3_accuracy: 0.8351 - val_dense_5_accuracy: 0.7371 - val_dense_7_accuracy: 0.7784 - val_dense_9_accuracy: 0.7423\n",
      "Epoch 22/30\n",
      "25/25 [==============================] - 3s 128ms/step - loss: 2.3497 - dense_1_loss: 0.1456 - dense_3_loss: 0.3592 - dense_5_loss: 0.5661 - dense_7_loss: 0.6038 - dense_9_loss: 0.6750 - dense_1_accuracy: 0.9536 - dense_3_accuracy: 0.8711 - dense_5_accuracy: 0.7887 - dense_7_accuracy: 0.7925 - dense_9_accuracy: 0.7706 - val_loss: 10.6586 - val_dense_1_loss: 7.5039 - val_dense_3_loss: 0.5989 - val_dense_5_loss: 0.8543 - val_dense_7_loss: 0.8537 - val_dense_9_loss: 0.8477 - val_dense_1_accuracy: 0.0928 - val_dense_3_accuracy: 0.8402 - val_dense_5_accuracy: 0.7371 - val_dense_7_accuracy: 0.7680 - val_dense_9_accuracy: 0.7268\n",
      "Epoch 23/30\n",
      "25/25 [==============================] - 3s 126ms/step - loss: 2.3893 - dense_1_loss: 0.1725 - dense_3_loss: 0.3653 - dense_5_loss: 0.6684 - dense_7_loss: 0.5788 - dense_9_loss: 0.6043 - dense_1_accuracy: 0.9369 - dense_3_accuracy: 0.8647 - dense_5_accuracy: 0.7642 - dense_7_accuracy: 0.7938 - dense_9_accuracy: 0.7629 - val_loss: 11.1487 - val_dense_1_loss: 8.2206 - val_dense_3_loss: 0.5651 - val_dense_5_loss: 0.7982 - val_dense_7_loss: 0.8125 - val_dense_9_loss: 0.7523 - val_dense_1_accuracy: 0.0670 - val_dense_3_accuracy: 0.8351 - val_dense_5_accuracy: 0.7732 - val_dense_7_accuracy: 0.7680 - val_dense_9_accuracy: 0.7887\n",
      "Epoch 24/30\n",
      "25/25 [==============================] - 3s 126ms/step - loss: 2.1094 - dense_1_loss: 0.1258 - dense_3_loss: 0.2935 - dense_5_loss: 0.5775 - dense_7_loss: 0.5386 - dense_9_loss: 0.5740 - dense_1_accuracy: 0.9497 - dense_3_accuracy: 0.8956 - dense_5_accuracy: 0.8157 - dense_7_accuracy: 0.8106 - dense_9_accuracy: 0.7822 - val_loss: 12.8953 - val_dense_1_loss: 10.0585 - val_dense_3_loss: 0.6077 - val_dense_5_loss: 0.8128 - val_dense_7_loss: 0.7827 - val_dense_9_loss: 0.6336 - val_dense_1_accuracy: 0.0773 - val_dense_3_accuracy: 0.8402 - val_dense_5_accuracy: 0.8093 - val_dense_7_accuracy: 0.7938 - val_dense_9_accuracy: 0.8041\n",
      "Epoch 25/30\n",
      "25/25 [==============================] - 3s 127ms/step - loss: 2.0000 - dense_1_loss: 0.0818 - dense_3_loss: 0.3421 - dense_5_loss: 0.4398 - dense_7_loss: 0.5593 - dense_9_loss: 0.5769 - dense_1_accuracy: 0.9691 - dense_3_accuracy: 0.8724 - dense_5_accuracy: 0.8338 - dense_7_accuracy: 0.7887 - dense_9_accuracy: 0.7912 - val_loss: 13.6879 - val_dense_1_loss: 10.6452 - val_dense_3_loss: 0.7329 - val_dense_5_loss: 0.8660 - val_dense_7_loss: 0.8052 - val_dense_9_loss: 0.6386 - val_dense_1_accuracy: 0.1649 - val_dense_3_accuracy: 0.8402 - val_dense_5_accuracy: 0.7835 - val_dense_7_accuracy: 0.7784 - val_dense_9_accuracy: 0.7732\n",
      "Epoch 26/30\n",
      "25/25 [==============================] - 3s 131ms/step - loss: 1.8726 - dense_1_loss: 0.1219 - dense_3_loss: 0.2505 - dense_5_loss: 0.4698 - dense_7_loss: 0.4837 - dense_9_loss: 0.5467 - dense_1_accuracy: 0.9485 - dense_3_accuracy: 0.9021 - dense_5_accuracy: 0.8183 - dense_7_accuracy: 0.8183 - dense_9_accuracy: 0.7964 - val_loss: 13.2513 - val_dense_1_loss: 10.5719 - val_dense_3_loss: 0.6091 - val_dense_5_loss: 0.7207 - val_dense_7_loss: 0.7032 - val_dense_9_loss: 0.6463 - val_dense_1_accuracy: 0.0773 - val_dense_3_accuracy: 0.8402 - val_dense_5_accuracy: 0.8093 - val_dense_7_accuracy: 0.7835 - val_dense_9_accuracy: 0.7835\n"
     ]
    },
    {
     "name": "stdout",
     "output_type": "stream",
     "text": [
      "Epoch 27/30\n",
      "25/25 [==============================] - 3s 126ms/step - loss: 1.7859 - dense_1_loss: 0.1141 - dense_3_loss: 0.2533 - dense_5_loss: 0.4361 - dense_7_loss: 0.4941 - dense_9_loss: 0.4883 - dense_1_accuracy: 0.9575 - dense_3_accuracy: 0.9021 - dense_5_accuracy: 0.8415 - dense_7_accuracy: 0.8247 - dense_9_accuracy: 0.8479 - val_loss: 15.1027 - val_dense_1_loss: 12.0262 - val_dense_3_loss: 0.7255 - val_dense_5_loss: 0.8936 - val_dense_7_loss: 0.7933 - val_dense_9_loss: 0.6640 - val_dense_1_accuracy: 0.1649 - val_dense_3_accuracy: 0.8351 - val_dense_5_accuracy: 0.7887 - val_dense_7_accuracy: 0.7887 - val_dense_9_accuracy: 0.7680\n",
      "Epoch 28/30\n",
      "25/25 [==============================] - 3s 125ms/step - loss: 1.7130 - dense_1_loss: 0.0804 - dense_3_loss: 0.2675 - dense_5_loss: 0.4504 - dense_7_loss: 0.4345 - dense_9_loss: 0.4801 - dense_1_accuracy: 0.9704 - dense_3_accuracy: 0.9008 - dense_5_accuracy: 0.8363 - dense_7_accuracy: 0.8441 - dense_9_accuracy: 0.8260 - val_loss: 14.6571 - val_dense_1_loss: 11.8456 - val_dense_3_loss: 0.6719 - val_dense_5_loss: 0.8272 - val_dense_7_loss: 0.7284 - val_dense_9_loss: 0.5840 - val_dense_1_accuracy: 0.1237 - val_dense_3_accuracy: 0.8505 - val_dense_5_accuracy: 0.7938 - val_dense_7_accuracy: 0.8041 - val_dense_9_accuracy: 0.8093\n",
      "Epoch 29/30\n",
      "25/25 [==============================] - 3s 128ms/step - loss: 1.7029 - dense_1_loss: 0.1059 - dense_3_loss: 0.2365 - dense_5_loss: 0.4020 - dense_7_loss: 0.5038 - dense_9_loss: 0.4548 - dense_1_accuracy: 0.9665 - dense_3_accuracy: 0.9111 - dense_5_accuracy: 0.8608 - dense_7_accuracy: 0.8222 - dense_9_accuracy: 0.8325 - val_loss: 16.1982 - val_dense_1_loss: 13.2412 - val_dense_3_loss: 0.7719 - val_dense_5_loss: 0.8550 - val_dense_7_loss: 0.7286 - val_dense_9_loss: 0.6015 - val_dense_1_accuracy: 0.1031 - val_dense_3_accuracy: 0.8402 - val_dense_5_accuracy: 0.8041 - val_dense_7_accuracy: 0.8041 - val_dense_9_accuracy: 0.7887\n",
      "Epoch 30/30\n",
      "25/25 [==============================] - 3s 132ms/step - loss: 1.6871 - dense_1_loss: 0.1165 - dense_3_loss: 0.2144 - dense_5_loss: 0.4307 - dense_7_loss: 0.4766 - dense_9_loss: 0.4489 - dense_1_accuracy: 0.9549 - dense_3_accuracy: 0.9111 - dense_5_accuracy: 0.8325 - dense_7_accuracy: 0.8222 - dense_9_accuracy: 0.8351 - val_loss: 13.0746 - val_dense_1_loss: 10.0884 - val_dense_3_loss: 0.7689 - val_dense_5_loss: 0.8493 - val_dense_7_loss: 0.7808 - val_dense_9_loss: 0.5872 - val_dense_1_accuracy: 0.2732 - val_dense_3_accuracy: 0.8299 - val_dense_5_accuracy: 0.7938 - val_dense_7_accuracy: 0.8041 - val_dense_9_accuracy: 0.8247\n"
     ]
    }
   ],
   "source": [
    "#model = create_model()\n",
    "hist = model.fit(X_train, [y_train[0], y_train[1], y_train[2], y_train[3], y_train[4]], batch_size=32, epochs=30,verbose=1, validation_split=0.2)"
   ]
  },
  {
   "cell_type": "code",
   "execution_count": 10,
   "metadata": {
    "_uuid": "e2cf1d0b8ab4a293d3dc110eb85a0946333bb0b9"
   },
   "outputs": [],
   "source": [
    "# Define function to predict captcha\n",
    "def predict(filepath):\n",
    "    img = cv2.imread(filepath, cv2.IMREAD_GRAYSCALE)\n",
    "    if img is not None:\n",
    "        img = img / 255.0\n",
    "    else:\n",
    "        print(\"Not detected\");\n",
    "    res = np.array(model.predict(img[np.newaxis, :, :, np.newaxis]))\n",
    "    ans = np.reshape(res, (5, 36))\n",
    "    l_ind = []\n",
    "    probs = []\n",
    "    for a in ans:\n",
    "        l_ind.append(np.argmax(a))\n",
    "        #probs.append(np.max(a))\n",
    "\n",
    "    capt = ''\n",
    "    for l in l_ind:\n",
    "        capt += symbols[l]\n",
    "    return capt#, sum(probs) / 5\n",
    "\n"
   ]
  },
  {
   "cell_type": "code",
   "execution_count": 11,
   "metadata": {
    "_uuid": "ed22f3a33792928c9f74601b264d269361755e0b"
   },
   "outputs": [
    {
     "name": "stdout",
     "output_type": "stream",
     "text": [
      "4/4 [==============================] - 0s 17ms/step - loss: 24.9020 - dense_1_loss: 22.4082 - dense_3_loss: 0.5885 - dense_5_loss: 0.5929 - dense_7_loss: 0.8807 - dense_9_loss: 0.4317 - dense_1_accuracy: 0.0000e+00 - dense_3_accuracy: 0.8400 - dense_5_accuracy: 0.8600 - dense_7_accuracy: 0.7800 - dense_9_accuracy: 0.8600\n",
      "Test Loss and accuracy: [24.90196990966797, 22.408239364624023, 0.5884778499603271, 0.5928948521614075, 0.8806500434875488, 0.4317079782485962, 0.0, 0.8399999737739563, 0.8600000143051147, 0.7799999713897705, 0.8600000143051147]\n"
     ]
    }
   ],
   "source": [
    "score= model.evaluate(X_test,[y_test[0], y_test[1], y_test[2], y_test[3], y_test[4]],verbose=1)\n",
    "print('Test Loss and accuracy:', score)"
   ]
  },
  {
   "cell_type": "code",
   "execution_count": 12,
   "metadata": {
    "_uuid": "44002a5776a0b54067cc8ff9574c2fbdfc356068"
   },
   "outputs": [
    {
     "name": "stdout",
     "output_type": "stream",
     "text": [
      "4/4 [==============================] - 0s 19ms/step - loss: 24.9020 - dense_1_loss: 22.4082 - dense_3_loss: 0.5885 - dense_5_loss: 0.5929 - dense_7_loss: 0.8807 - dense_9_loss: 0.4317 - dense_1_accuracy: 0.0000e+00 - dense_3_accuracy: 0.8400 - dense_5_accuracy: 0.8600 - dense_7_accuracy: 0.7800 - dense_9_accuracy: 0.8600\n",
      "1/1 [==============================] - 0s 117ms/step\n",
      "8n5p3\n",
      "1/1 [==============================] - 0s 15ms/step\n",
      "f2m8n\n",
      "1/1 [==============================] - 0s 15ms/step\n",
      "dce8y\n",
      "1/1 [==============================] - 0s 15ms/step\n",
      "3eny7\n",
      "1/1 [==============================] - 0s 17ms/step\n",
      "npxb7\n"
     ]
    }
   ],
   "source": [
    "# Check model on some samples\n",
    "model.evaluate(X_test, [y_test[0], y_test[1], y_test[2], y_test[3], y_test[4]])\n",
    "print(predict('./input/captcha-version-2-images/8n5p3.png'))\n",
    "print(predict('./input/captcha-version-2-images/f2m8n.png'))\n",
    "print(predict('./input/captcha-version-2-images/dce8y.png'))\n",
    "print(predict('./input/captcha-version-2-images/3eny7.png'))\n",
    "print(predict('./input/captcha-version-2-images/npxb7.png'))"
   ]
  },
  {
   "cell_type": "code",
   "execution_count": 14,
   "metadata": {
    "_uuid": "1f7aa77001b1185404c45a928d2555c484c402b3"
   },
   "outputs": [
    {
     "data": {
      "text/plain": [
       "<matplotlib.image.AxesImage at 0x1e9ed67e1c0>"
      ]
     },
     "execution_count": 14,
     "metadata": {},
     "output_type": "execute_result"
    },
    {
     "data": {
      "image/png": "[encoded data removed]",
      "text/plain": [
       "<Figure size 432x288 with 1 Axes>"
      ]
     },
     "metadata": {
      "needs_background": "light"
     },
     "output_type": "display_data"
    }
   ],
   "source": [
    "#Lets test an unknown captcha\n",
    "#preview\n",
    "%matplotlib inline \n",
    "import matplotlib.pyplot as plt\n",
    "img=cv2.imread('./input/capthaimages/a.png',cv2.IMREAD_GRAYSCALE)\n",
    "plt.imshow(img, cmap=plt.get_cmap('gray'))"
   ]
  },
  {
   "cell_type": "code",
   "execution_count": 15,
   "metadata": {
    "_uuid": "c9ac975ea5aae3b03c23204d7e32a534c2db19d0"
   },
   "outputs": [
    {
     "name": "stdout",
     "output_type": "stream",
     "text": [
      "1/1 [==============================] - 0s 16ms/step\n",
      "Predicted Captcha = 2cegf\n"
     ]
    }
   ],
   "source": [
    "#Lets Predict By Model\n",
    "print(\"Predicted Captcha =\",predict('./input/capthaimages/a.png'))"
   ]
  },
  {
   "cell_type": "code",
   "execution_count": null,
   "metadata": {
    "_uuid": "06940ca0d54ec7944e926b67232334830884a308"
   },
   "outputs": [],
   "source": [
    "#testing\n",
    "#c=0\n",
    "#for i, pic in enumerate(os.listdir('../input/captcha-version-2-images/samples/samples')):\n",
    "        # Read image as grayscale\n",
    "        \n",
    "        #if i>970:    \n",
    "\n",
    "            #img = cv2.imread(os.path.join('../input/captcha-version-2-images/samples/samples', pic), cv2.IMREAD_GRAYSCALE)\n",
    "            #print(\"Predicted Captcha =\",predict(os.path.join('../input/captcha-version-2-images/samples/samples',pic)))\n",
    "            #plt.imshow(img, cmap=plt.get_cmap('gray'))\n",
    "            #pr=predict(os.path.join('../input/captcha-version-2-images/samples/samples',pic))\n",
    "            #pic_target = pic[:-4]\n",
    "            #if pr==pic_target:\n",
    "                #c=c+1\n",
    "                #print(c)\n",
    "            #print(pic_target)\n",
    "#print((c/100)*100)"
   ]
  },
  {
   "cell_type": "code",
   "execution_count": null,
   "metadata": {
    "_uuid": "1c7d6e4f3407125d1bb3425efeaf31522a579abb"
   },
   "outputs": [],
   "source": []
  }
 ],
 "metadata": {
  "kernelspec": {
   "display_name": "Python 3 (ipykernel)",
   "language": "python",
   "name": "python3"
  },
  "language_info": {
   "codemirror_mode": {
    "name": "ipython",
    "version": 3
   },
   "file_extension": ".py",
   "mimetype": "text/x-python",
   "name": "python",
   "nbconvert_exporter": "python",
   "pygments_lexer": "ipython3",
   "version": "3.9.12"
  }
 },
 "nbformat": 4,
 "nbformat_minor": 4
}
