{
 "cells": [
  {
   "cell_type": "code",
   "execution_count": 1,
   "metadata": {
    "_cell_guid": "b1076dfc-b9ad-4769-8c92-a6c4dae69d19",
    "_uuid": "8f2839f25d086af736a60e9eeb907d3b93b6e0e5"
   },
   "outputs": [
    {
     "name": "stdout",
     "output_type": "stream",
     "text": [
      "['captcha-version-2-images', 'capthaimages']\n"
     ]
    }
   ],
   "source": [
    "# This Python 3 environment comes with many helpful analytics libraries installed\n",
    "# It is defined by the kaggle/python docker image: https://github.com/kaggle/docker-python\n",
    "# For example, here's several helpful packages to load in \n",
    "\n",
    "import numpy as np # linear algebra\n",
    "import pandas as pd # data processing, CSV file I/O (e.g. pd.read_csv)\n",
    "# Input data files are available in the \"../input/\" directory.http://localhost:8925/notebooks/OneDrive/Desktop/Computer_Vision_finalPJ/captcha-recognition-26d064.ipynb#\n",
    "# For example, running this (by clicking run or pressing Shift+Enter) will list the files in the input directory\n",
    "%matplotlib inline \n",
    "import matplotlib.pyplot as plt\n",
    "import os\n",
    "print(os.listdir(\"./input\"))\n",
    "\n",
    "# Any results you write to the current directory are saved as output."
   ]
  },
  {
   "cell_type": "code",
   "execution_count": 2,
   "metadata": {
    "_uuid": "1fdd3e1588206ff8c65ec7cf8ac41c5360a5c00a"
   },
   "outputs": [],
   "source": [
    "from keras import layers\n",
    "from keras.models import Model\n",
    "from keras.models import load_model\n",
    "from keras import callbacks\n",
    "import os\n",
    "import cv2\n",
    "import string\n",
    "import numpy as np\n",
    "\n",
    "#Init main values\n",
    "symbols = string.ascii_lowercase + \"0123456789\" # All symbols captcha can contain\n",
    "num_symbols = len(symbols)\n",
    "img_shape = (50, 200, 1)"
   ]
  },
  {
   "cell_type": "code",
   "execution_count": 3,
   "metadata": {
    "_uuid": "a84cb6138839a96688013722a585658859150dd8"
   },
   "outputs": [
    {
     "name": "stdout",
     "output_type": "stream",
     "text": [
      "36\n"
     ]
    }
   ],
   "source": [
    "print(num_symbols)"
   ]
  },
  {
   "cell_type": "code",
   "execution_count": 4,
   "metadata": {
    "_uuid": "46c8b77c16307b91a561dd2b3c82d894063671b8"
   },
   "outputs": [],
   "source": [
    "def create_model():\n",
    "    img = layers.Input(shape=img_shape) # Get image as an input and process it through some Convs\n",
    "    conv1 = layers.Conv2D(16, (3, 3), padding='same', activation='relu')(img)\n",
    "    mp1 = layers.MaxPooling2D(padding='same')(conv1)  # 100x25\n",
    "    conv2 = layers.Conv2D(32, (3, 3), padding='same', activation='relu')(mp1)\n",
    "    mp2 = layers.MaxPooling2D(padding='same')(conv2)  # 50x13\n",
    "    conv3 = layers.Conv2D(32, (3, 3), padding='same', activation='relu')(mp2)\n",
    "    bn = layers.BatchNormalization()(conv3)\n",
    "    mp3 = layers.MaxPooling2D(padding='same')(bn)  # 25x7\n",
    "    \n",
    "    # Get flattened vector and make 5 branches from it. Each branch will predict one letter\n",
    "    flat = layers.Flatten()(mp3)\n",
    "    outs = []\n",
    "    for _ in range(5):\n",
    "        dens1 = layers.Dense(64, activation='relu')(flat)\n",
    "        drop = layers.Dropout(0.5)(dens1)\n",
    "        res = layers.Dense(num_symbols, activation='sigmoid')(drop)\n",
    "\n",
    "        outs.append(res)\n",
    "    \n",
    "    # Compile model and return it\n",
    "    model = Model(img, outs)\n",
    "    model.compile(loss='categorical_crossentropy', optimizer='adam',metrics=[\"accuracy\"])\n",
    "    return model"
   ]
  },
  {
   "cell_type": "code",
   "execution_count": 5,
   "metadata": {
    "_uuid": "4dccb0ee2eb679f4b7e7d1a92b52d643ac02ff3e"
   },
   "outputs": [],
   "source": [
    "def preprocess_data():\n",
    "    n_samples = len(os.listdir('./input/captcha-version-2-images'))\n",
    "    X = np.zeros((n_samples, 50, 200, 1)) #1070*50*200\n",
    "    y = np.zeros((5, n_samples, num_symbols)) #5*1070*36\n",
    "\n",
    "    for i, pic in enumerate(os.listdir('./input/captcha-version-2-images')):\n",
    "        # Read image as grayscale\n",
    "        img = cv2.imread(os.path.join('./input/captcha-version-2-images', pic), cv2.IMREAD_GRAYSCALE)\n",
    "        pic_target = pic[:-4]\n",
    "        if len(pic_target) < 6:\n",
    "            # Scale and reshape image\n",
    "            img = img / 255.0\n",
    "            img = np.reshape(img, (50, 200, 1))\n",
    "            # Define targets and code them using OneHotEncoding\n",
    "            targs = np.zeros((5, num_symbols))\n",
    "            for j, l in enumerate(pic_target):\n",
    "                ind = symbols.find(l)\n",
    "                targs[j, ind] = 1\n",
    "            X[i] = img\n",
    "            y[:, i] = targs\n",
    "    \n",
    "    # Return final data\n",
    "    return X, y\n",
    "\n",
    "X, y = preprocess_data()\n",
    "X_train, y_train = X[:970], y[:, :970]\n",
    "X_test, y_test = X[970:], y[:, 970:]"
   ]
  },
  {
   "cell_type": "code",
   "execution_count": 6,
   "metadata": {
    "_uuid": "834999810cccd5d867f87b26b4b6e89d87a3092f"
   },
   "outputs": [
    {
     "name": "stdout",
     "output_type": "stream",
     "text": [
      "Model: \"model\"\n",
      "__________________________________________________________________________________________________\n",
      " Layer (type)                   Output Shape         Param #     Connected to                     \n",
      "==================================================================================================\n",
      " input_1 (InputLayer)           [(None, 50, 200, 1)  0           []                               \n",
      "                                ]                                                                 \n",
      "                                                                                                  \n",
      " conv2d (Conv2D)                (None, 50, 200, 16)  160         ['input_1[0][0]']                \n",
      "                                                                                                  \n",
      " max_pooling2d (MaxPooling2D)   (None, 25, 100, 16)  0           ['conv2d[0][0]']                 \n",
      "                                                                                                  \n",
      " conv2d_1 (Conv2D)              (None, 25, 100, 32)  4640        ['max_pooling2d[0][0]']          \n",
      "                                                                                                  \n",
      " max_pooling2d_1 (MaxPooling2D)  (None, 13, 50, 32)  0           ['conv2d_1[0][0]']               \n",
      "                                                                                                  \n",
      " conv2d_2 (Conv2D)              (None, 13, 50, 32)   9248        ['max_pooling2d_1[0][0]']        \n",
      "                                                                                                  \n",
      " batch_normalization (BatchNorm  (None, 13, 50, 32)  128         ['conv2d_2[0][0]']               \n",
      " alization)                                                                                       \n",
      "                                                                                                  \n",
      " max_pooling2d_2 (MaxPooling2D)  (None, 7, 25, 32)   0           ['batch_normalization[0][0]']    \n",
      "                                                                                                  \n",
      " flatten (Flatten)              (None, 5600)         0           ['max_pooling2d_2[0][0]']        \n",
      "                                                                                                  \n",
      " dense (Dense)                  (None, 64)           358464      ['flatten[0][0]']                \n",
      "                                                                                                  \n",
      " dense_2 (Dense)                (None, 64)           358464      ['flatten[0][0]']                \n",
      "                                                                                                  \n",
      " dense_4 (Dense)                (None, 64)           358464      ['flatten[0][0]']                \n",
      "                                                                                                  \n",
      " dense_6 (Dense)                (None, 64)           358464      ['flatten[0][0]']                \n",
      "                                                                                                  \n",
      " dense_8 (Dense)                (None, 64)           358464      ['flatten[0][0]']                \n",
      "                                                                                                  \n",
      " dropout (Dropout)              (None, 64)           0           ['dense[0][0]']                  \n",
      "                                                                                                  \n",
      " dropout_1 (Dropout)            (None, 64)           0           ['dense_2[0][0]']                \n",
      "                                                                                                  \n",
      " dropout_2 (Dropout)            (None, 64)           0           ['dense_4[0][0]']                \n",
      "                                                                                                  \n",
      " dropout_3 (Dropout)            (None, 64)           0           ['dense_6[0][0]']                \n",
      "                                                                                                  \n",
      " dropout_4 (Dropout)            (None, 64)           0           ['dense_8[0][0]']                \n",
      "                                                                                                  \n",
      " dense_1 (Dense)                (None, 36)           2340        ['dropout[0][0]']                \n",
      "                                                                                                  \n",
      " dense_3 (Dense)                (None, 36)           2340        ['dropout_1[0][0]']              \n",
      "                                                                                                  \n",
      " dense_5 (Dense)                (None, 36)           2340        ['dropout_2[0][0]']              \n",
      "                                                                                                  \n",
      " dense_7 (Dense)                (None, 36)           2340        ['dropout_3[0][0]']              \n",
      "                                                                                                  \n",
      " dense_9 (Dense)                (None, 36)           2340        ['dropout_4[0][0]']              \n",
      "                                                                                                  \n",
      "==================================================================================================\n",
      "Total params: 1,818,196\n",
      "Trainable params: 1,818,132\n",
      "Non-trainable params: 64\n",
      "__________________________________________________________________________________________________\n"
     ]
    }
   ],
   "source": [
    "model=create_model();\n",
    "model.summary();"
   ]
  },
  {
   "cell_type": "code",
   "execution_count": 7,
   "metadata": {
    "_uuid": "e82754ff49c3cec708b87947c417566a252d3c12"
   },
   "outputs": [
    {
     "name": "stdout",
     "output_type": "stream",
     "text": [
      "Epoch 1/30\n",
      "25/25 [==============================] - 6s 163ms/step - loss: 17.8299 - dense_1_loss: 3.4832 - dense_3_loss: 3.5842 - dense_5_loss: 3.5963 - dense_7_loss: 3.5793 - dense_9_loss: 3.5869 - dense_1_accuracy: 0.0593 - dense_3_accuracy: 0.0631 - dense_5_accuracy: 0.0644 - dense_7_accuracy: 0.0606 - dense_9_accuracy: 0.0528 - val_loss: 17.7263 - val_dense_1_loss: 3.6053 - val_dense_3_loss: 3.5367 - val_dense_5_loss: 3.5305 - val_dense_7_loss: 3.5350 - val_dense_9_loss: 3.5188 - val_dense_1_accuracy: 0.0000e+00 - val_dense_3_accuracy: 0.1031 - val_dense_5_accuracy: 0.0979 - val_dense_7_accuracy: 0.0979 - val_dense_9_accuracy: 0.1082\n",
      "Epoch 2/30\n",
      "25/25 [==============================] - 3s 135ms/step - loss: 16.3869 - dense_1_loss: 3.0647 - dense_3_loss: 3.2720 - dense_5_loss: 3.3583 - dense_7_loss: 3.3567 - dense_9_loss: 3.3352 - dense_1_accuracy: 0.1031 - dense_3_accuracy: 0.0941 - dense_5_accuracy: 0.0683 - dense_7_accuracy: 0.0735 - dense_9_accuracy: 0.0928 - val_loss: 17.6296 - val_dense_1_loss: 3.6247 - val_dense_3_loss: 3.4937 - val_dense_5_loss: 3.5143 - val_dense_7_loss: 3.5090 - val_dense_9_loss: 3.4879 - val_dense_1_accuracy: 0.0000e+00 - val_dense_3_accuracy: 0.0670 - val_dense_5_accuracy: 0.0979 - val_dense_7_accuracy: 0.0979 - val_dense_9_accuracy: 0.0773\n",
      "Epoch 3/30\n",
      "25/25 [==============================] - 3s 137ms/step - loss: 15.0692 - dense_1_loss: 2.5895 - dense_3_loss: 2.8839 - dense_5_loss: 3.1436 - dense_7_loss: 3.2480 - dense_9_loss: 3.2042 - dense_1_accuracy: 0.2139 - dense_3_accuracy: 0.1521 - dense_5_accuracy: 0.1044 - dense_7_accuracy: 0.0786 - dense_9_accuracy: 0.0992 - val_loss: 17.4489 - val_dense_1_loss: 3.6218 - val_dense_3_loss: 3.4282 - val_dense_5_loss: 3.4669 - val_dense_7_loss: 3.4783 - val_dense_9_loss: 3.4536 - val_dense_1_accuracy: 0.0000e+00 - val_dense_3_accuracy: 0.2320 - val_dense_5_accuracy: 0.0979 - val_dense_7_accuracy: 0.0979 - val_dense_9_accuracy: 0.1546\n",
      "Epoch 4/30\n",
      "25/25 [==============================] - 3s 137ms/step - loss: 13.5614 - dense_1_loss: 2.1645 - dense_3_loss: 2.4585 - dense_5_loss: 2.9047 - dense_7_loss: 3.0665 - dense_9_loss: 2.9673 - dense_1_accuracy: 0.3067 - dense_3_accuracy: 0.2603 - dense_5_accuracy: 0.1727 - dense_7_accuracy: 0.1211 - dense_9_accuracy: 0.1714 - val_loss: 17.1252 - val_dense_1_loss: 3.6641 - val_dense_3_loss: 3.2776 - val_dense_5_loss: 3.3886 - val_dense_7_loss: 3.3800 - val_dense_9_loss: 3.4149 - val_dense_1_accuracy: 0.0000e+00 - val_dense_3_accuracy: 0.4072 - val_dense_5_accuracy: 0.2268 - val_dense_7_accuracy: 0.1134 - val_dense_9_accuracy: 0.1804\n",
      "Epoch 5/30\n",
      "25/25 [==============================] - 3s 137ms/step - loss: 11.9921 - dense_1_loss: 1.6866 - dense_3_loss: 2.0624 - dense_5_loss: 2.6235 - dense_7_loss: 2.9212 - dense_9_loss: 2.6984 - dense_1_accuracy: 0.4265 - dense_3_accuracy: 0.3338 - dense_5_accuracy: 0.2332 - dense_7_accuracy: 0.1443 - dense_9_accuracy: 0.2191 - val_loss: 17.0059 - val_dense_1_loss: 3.6856 - val_dense_3_loss: 3.2504 - val_dense_5_loss: 3.3209 - val_dense_7_loss: 3.3778 - val_dense_9_loss: 3.3713 - val_dense_1_accuracy: 0.0000e+00 - val_dense_3_accuracy: 0.4948 - val_dense_5_accuracy: 0.2371 - val_dense_7_accuracy: 0.1546 - val_dense_9_accuracy: 0.2423\n",
      "Epoch 6/30\n",
      "25/25 [==============================] - 3s 125ms/step - loss: 10.7130 - dense_1_loss: 1.3198 - dense_3_loss: 1.8138 - dense_5_loss: 2.3714 - dense_7_loss: 2.7422 - dense_9_loss: 2.4659 - dense_1_accuracy: 0.5567 - dense_3_accuracy: 0.4124 - dense_5_accuracy: 0.2745 - dense_7_accuracy: 0.1675 - dense_9_accuracy: 0.2320 - val_loss: 16.6404 - val_dense_1_loss: 3.7652 - val_dense_3_loss: 3.1478 - val_dense_5_loss: 3.2099 - val_dense_7_loss: 3.2832 - val_dense_9_loss: 3.2343 - val_dense_1_accuracy: 0.0000e+00 - val_dense_3_accuracy: 0.5619 - val_dense_5_accuracy: 0.3969 - val_dense_7_accuracy: 0.2577 - val_dense_9_accuracy: 0.2474\n",
      "Epoch 7/30\n",
      "25/25 [==============================] - 3s 127ms/step - loss: 9.4659 - dense_1_loss: 0.9824 - dense_3_loss: 1.5826 - dense_5_loss: 2.1422 - dense_7_loss: 2.5114 - dense_9_loss: 2.2473 - dense_1_accuracy: 0.6585 - dense_3_accuracy: 0.4858 - dense_5_accuracy: 0.3157 - dense_7_accuracy: 0.2139 - dense_9_accuracy: 0.3015 - val_loss: 16.1027 - val_dense_1_loss: 3.7676 - val_dense_3_loss: 2.9240 - val_dense_5_loss: 3.1102 - val_dense_7_loss: 3.1750 - val_dense_9_loss: 3.1259 - val_dense_1_accuracy: 0.0000e+00 - val_dense_3_accuracy: 0.6907 - val_dense_5_accuracy: 0.4072 - val_dense_7_accuracy: 0.3299 - val_dense_9_accuracy: 0.3402\n",
      "Epoch 8/30\n",
      "25/25 [==============================] - 3s 130ms/step - loss: 8.3360 - dense_1_loss: 0.7547 - dense_3_loss: 1.3551 - dense_5_loss: 1.8482 - dense_7_loss: 2.3293 - dense_9_loss: 2.0488 - dense_1_accuracy: 0.7436 - dense_3_accuracy: 0.5425 - dense_5_accuracy: 0.4008 - dense_7_accuracy: 0.2474 - dense_9_accuracy: 0.3557 - val_loss: 15.6006 - val_dense_1_loss: 3.8014 - val_dense_3_loss: 2.7695 - val_dense_5_loss: 2.9291 - val_dense_7_loss: 3.0911 - val_dense_9_loss: 3.0096 - val_dense_1_accuracy: 0.0103 - val_dense_3_accuracy: 0.7113 - val_dense_5_accuracy: 0.4691 - val_dense_7_accuracy: 0.2474 - val_dense_9_accuracy: 0.3814\n",
      "Epoch 9/30\n",
      "25/25 [==============================] - 3s 136ms/step - loss: 7.4971 - dense_1_loss: 0.6645 - dense_3_loss: 1.1688 - dense_5_loss: 1.6418 - dense_7_loss: 2.1688 - dense_9_loss: 1.8532 - dense_1_accuracy: 0.7693 - dense_3_accuracy: 0.6018 - dense_5_accuracy: 0.4562 - dense_7_accuracy: 0.3093 - dense_9_accuracy: 0.3827 - val_loss: 14.9822 - val_dense_1_loss: 3.9764 - val_dense_3_loss: 2.5477 - val_dense_5_loss: 2.7359 - val_dense_7_loss: 2.8798 - val_dense_9_loss: 2.8424 - val_dense_1_accuracy: 0.0000e+00 - val_dense_3_accuracy: 0.6495 - val_dense_5_accuracy: 0.4897 - val_dense_7_accuracy: 0.3093 - val_dense_9_accuracy: 0.3814\n",
      "Epoch 10/30\n",
      "25/25 [==============================] - 3s 133ms/step - loss: 6.6130 - dense_1_loss: 0.4145 - dense_3_loss: 1.0316 - dense_5_loss: 1.4888 - dense_7_loss: 2.0047 - dense_9_loss: 1.6735 - dense_1_accuracy: 0.8634 - dense_3_accuracy: 0.6353 - dense_5_accuracy: 0.4845 - dense_7_accuracy: 0.3106 - dense_9_accuracy: 0.4459 - val_loss: 14.4617 - val_dense_1_loss: 4.0882 - val_dense_3_loss: 2.3994 - val_dense_5_loss: 2.5607 - val_dense_7_loss: 2.7536 - val_dense_9_loss: 2.6597 - val_dense_1_accuracy: 0.0155 - val_dense_3_accuracy: 0.6804 - val_dense_5_accuracy: 0.4381 - val_dense_7_accuracy: 0.3299 - val_dense_9_accuracy: 0.4381\n",
      "Epoch 11/30\n",
      "25/25 [==============================] - 3s 123ms/step - loss: 6.1094 - dense_1_loss: 0.4520 - dense_3_loss: 0.9490 - dense_5_loss: 1.3224 - dense_7_loss: 1.8404 - dense_9_loss: 1.5456 - dense_1_accuracy: 0.8454 - dense_3_accuracy: 0.6662 - dense_5_accuracy: 0.5528 - dense_7_accuracy: 0.3737 - dense_9_accuracy: 0.4871 - val_loss: 13.6813 - val_dense_1_loss: 4.1256 - val_dense_3_loss: 2.1463 - val_dense_5_loss: 2.4127 - val_dense_7_loss: 2.5545 - val_dense_9_loss: 2.4423 - val_dense_1_accuracy: 0.0258 - val_dense_3_accuracy: 0.7938 - val_dense_5_accuracy: 0.5464 - val_dense_7_accuracy: 0.5464 - val_dense_9_accuracy: 0.4845\n",
      "Epoch 12/30\n",
      "25/25 [==============================] - 3s 124ms/step - loss: 5.3543 - dense_1_loss: 0.3957 - dense_3_loss: 0.8338 - dense_5_loss: 1.0825 - dense_7_loss: 1.7086 - dense_9_loss: 1.3337 - dense_1_accuracy: 0.8634 - dense_3_accuracy: 0.7139 - dense_5_accuracy: 0.6211 - dense_7_accuracy: 0.4124 - dense_9_accuracy: 0.5503 - val_loss: 12.8427 - val_dense_1_loss: 4.5326 - val_dense_3_loss: 1.7346 - val_dense_5_loss: 2.0868 - val_dense_7_loss: 2.3258 - val_dense_9_loss: 2.1629 - val_dense_1_accuracy: 0.0052 - val_dense_3_accuracy: 0.8144 - val_dense_5_accuracy: 0.5979 - val_dense_7_accuracy: 0.4639 - val_dense_9_accuracy: 0.5722\n",
      "Epoch 13/30\n",
      "25/25 [==============================] - 3s 132ms/step - loss: 4.9681 - dense_1_loss: 0.2913 - dense_3_loss: 0.7411 - dense_5_loss: 1.0443 - dense_7_loss: 1.5723 - dense_9_loss: 1.3191 - dense_1_accuracy: 0.8866 - dense_3_accuracy: 0.7448 - dense_5_accuracy: 0.6521 - dense_7_accuracy: 0.4523 - dense_9_accuracy: 0.5490 - val_loss: 12.5392 - val_dense_1_loss: 4.8319 - val_dense_3_loss: 1.5657 - val_dense_5_loss: 1.9371 - val_dense_7_loss: 2.1450 - val_dense_9_loss: 2.0595 - val_dense_1_accuracy: 0.0103 - val_dense_3_accuracy: 0.8299 - val_dense_5_accuracy: 0.6959 - val_dense_7_accuracy: 0.5979 - val_dense_9_accuracy: 0.6340\n"
     ]
    },
    {
     "name": "stdout",
     "output_type": "stream",
     "text": [
      "Epoch 14/30\n",
      "25/25 [==============================] - 3s 133ms/step - loss: 4.7037 - dense_1_loss: 0.2633 - dense_3_loss: 0.6859 - dense_5_loss: 1.0864 - dense_7_loss: 1.4193 - dense_9_loss: 1.2487 - dense_1_accuracy: 0.9046 - dense_3_accuracy: 0.7487 - dense_5_accuracy: 0.6121 - dense_7_accuracy: 0.4910 - dense_9_accuracy: 0.5657 - val_loss: 11.5267 - val_dense_1_loss: 4.8583 - val_dense_3_loss: 1.3187 - val_dense_5_loss: 1.6476 - val_dense_7_loss: 1.9114 - val_dense_9_loss: 1.7908 - val_dense_1_accuracy: 0.0258 - val_dense_3_accuracy: 0.8247 - val_dense_5_accuracy: 0.6907 - val_dense_7_accuracy: 0.6340 - val_dense_9_accuracy: 0.6134\n",
      "Epoch 15/30\n",
      "25/25 [==============================] - 3s 137ms/step - loss: 4.3388 - dense_1_loss: 0.2268 - dense_3_loss: 0.6721 - dense_5_loss: 0.9551 - dense_7_loss: 1.2970 - dense_9_loss: 1.1876 - dense_1_accuracy: 0.9278 - dense_3_accuracy: 0.7552 - dense_5_accuracy: 0.6521 - dense_7_accuracy: 0.5399 - dense_9_accuracy: 0.5786 - val_loss: 11.8238 - val_dense_1_loss: 5.5340 - val_dense_3_loss: 1.2388 - val_dense_5_loss: 1.6186 - val_dense_7_loss: 1.7986 - val_dense_9_loss: 1.6338 - val_dense_1_accuracy: 0.0258 - val_dense_3_accuracy: 0.8299 - val_dense_5_accuracy: 0.6649 - val_dense_7_accuracy: 0.5515 - val_dense_9_accuracy: 0.6186\n",
      "Epoch 16/30\n",
      "25/25 [==============================] - 3s 133ms/step - loss: 3.8726 - dense_1_loss: 0.2376 - dense_3_loss: 0.6340 - dense_5_loss: 0.8276 - dense_7_loss: 1.1779 - dense_9_loss: 0.9955 - dense_1_accuracy: 0.9046 - dense_3_accuracy: 0.7564 - dense_5_accuracy: 0.6881 - dense_7_accuracy: 0.5786 - dense_9_accuracy: 0.6585 - val_loss: 11.5046 - val_dense_1_loss: 6.3702 - val_dense_3_loss: 0.9429 - val_dense_5_loss: 1.3404 - val_dense_7_loss: 1.5375 - val_dense_9_loss: 1.3135 - val_dense_1_accuracy: 0.0103 - val_dense_3_accuracy: 0.8402 - val_dense_5_accuracy: 0.6907 - val_dense_7_accuracy: 0.6701 - val_dense_9_accuracy: 0.6753\n",
      "Epoch 17/30\n",
      "25/25 [==============================] - 3s 133ms/step - loss: 3.5992 - dense_1_loss: 0.1930 - dense_3_loss: 0.5534 - dense_5_loss: 0.7738 - dense_7_loss: 1.1276 - dense_9_loss: 0.9513 - dense_1_accuracy: 0.9265 - dense_3_accuracy: 0.7925 - dense_5_accuracy: 0.7152 - dense_7_accuracy: 0.5915 - dense_9_accuracy: 0.6649 - val_loss: 10.7951 - val_dense_1_loss: 6.3434 - val_dense_3_loss: 0.8203 - val_dense_5_loss: 1.1832 - val_dense_7_loss: 1.3196 - val_dense_9_loss: 1.1287 - val_dense_1_accuracy: 0.0515 - val_dense_3_accuracy: 0.8505 - val_dense_5_accuracy: 0.6959 - val_dense_7_accuracy: 0.6856 - val_dense_9_accuracy: 0.6701\n",
      "Epoch 18/30\n",
      "25/25 [==============================] - 4s 143ms/step - loss: 3.4726 - dense_1_loss: 0.1760 - dense_3_loss: 0.5588 - dense_5_loss: 0.7501 - dense_7_loss: 1.1361 - dense_9_loss: 0.8516 - dense_1_accuracy: 0.9278 - dense_3_accuracy: 0.8041 - dense_5_accuracy: 0.7216 - dense_7_accuracy: 0.6147 - dense_9_accuracy: 0.7088 - val_loss: 11.2206 - val_dense_1_loss: 6.9864 - val_dense_3_loss: 0.7882 - val_dense_5_loss: 1.1342 - val_dense_7_loss: 1.2803 - val_dense_9_loss: 1.0316 - val_dense_1_accuracy: 0.0412 - val_dense_3_accuracy: 0.8505 - val_dense_5_accuracy: 0.7216 - val_dense_7_accuracy: 0.6856 - val_dense_9_accuracy: 0.7216\n",
      "Epoch 19/30\n",
      "25/25 [==============================] - 3s 138ms/step - loss: 3.2018 - dense_1_loss: 0.1894 - dense_3_loss: 0.5435 - dense_5_loss: 0.7273 - dense_7_loss: 0.9910 - dense_9_loss: 0.7506 - dense_1_accuracy: 0.9278 - dense_3_accuracy: 0.7951 - dense_5_accuracy: 0.7281 - dense_7_accuracy: 0.6508 - dense_9_accuracy: 0.7487 - val_loss: 11.8305 - val_dense_1_loss: 7.8782 - val_dense_3_loss: 0.7172 - val_dense_5_loss: 1.0638 - val_dense_7_loss: 1.2218 - val_dense_9_loss: 0.9495 - val_dense_1_accuracy: 0.0206 - val_dense_3_accuracy: 0.8454 - val_dense_5_accuracy: 0.7165 - val_dense_7_accuracy: 0.6907 - val_dense_9_accuracy: 0.7010\n",
      "Epoch 20/30\n",
      "25/25 [==============================] - 3s 133ms/step - loss: 3.0676 - dense_1_loss: 0.1542 - dense_3_loss: 0.5833 - dense_5_loss: 0.7110 - dense_7_loss: 0.9171 - dense_9_loss: 0.7020 - dense_1_accuracy: 0.9485 - dense_3_accuracy: 0.7899 - dense_5_accuracy: 0.7371 - dense_7_accuracy: 0.6778 - dense_9_accuracy: 0.7436 - val_loss: 11.1550 - val_dense_1_loss: 7.6919 - val_dense_3_loss: 0.6456 - val_dense_5_loss: 0.9693 - val_dense_7_loss: 1.0362 - val_dense_9_loss: 0.8120 - val_dense_1_accuracy: 0.0619 - val_dense_3_accuracy: 0.8608 - val_dense_5_accuracy: 0.7577 - val_dense_7_accuracy: 0.7165 - val_dense_9_accuracy: 0.7320\n",
      "Epoch 21/30\n",
      "25/25 [==============================] - 3s 124ms/step - loss: 2.9005 - dense_1_loss: 0.1592 - dense_3_loss: 0.4512 - dense_5_loss: 0.6445 - dense_7_loss: 0.9550 - dense_9_loss: 0.6907 - dense_1_accuracy: 0.9433 - dense_3_accuracy: 0.8286 - dense_5_accuracy: 0.7513 - dense_7_accuracy: 0.6598 - dense_9_accuracy: 0.7345 - val_loss: 12.4830 - val_dense_1_loss: 9.0407 - val_dense_3_loss: 0.6581 - val_dense_5_loss: 1.0164 - val_dense_7_loss: 1.0049 - val_dense_9_loss: 0.7629 - val_dense_1_accuracy: 0.0567 - val_dense_3_accuracy: 0.8608 - val_dense_5_accuracy: 0.7165 - val_dense_7_accuracy: 0.6959 - val_dense_9_accuracy: 0.8144\n",
      "Epoch 22/30\n",
      "25/25 [==============================] - 3s 127ms/step - loss: 2.6879 - dense_1_loss: 0.1562 - dense_3_loss: 0.3915 - dense_5_loss: 0.6045 - dense_7_loss: 0.8340 - dense_9_loss: 0.7017 - dense_1_accuracy: 0.9433 - dense_3_accuracy: 0.8582 - dense_5_accuracy: 0.7758 - dense_7_accuracy: 0.7062 - dense_9_accuracy: 0.7436 - val_loss: 11.9949 - val_dense_1_loss: 8.6715 - val_dense_3_loss: 0.7149 - val_dense_5_loss: 0.9327 - val_dense_7_loss: 0.9084 - val_dense_9_loss: 0.7675 - val_dense_1_accuracy: 0.0619 - val_dense_3_accuracy: 0.8454 - val_dense_5_accuracy: 0.7577 - val_dense_7_accuracy: 0.7526 - val_dense_9_accuracy: 0.7732\n",
      "Epoch 23/30\n",
      "25/25 [==============================] - 3s 130ms/step - loss: 2.6145 - dense_1_loss: 0.1301 - dense_3_loss: 0.4063 - dense_5_loss: 0.6124 - dense_7_loss: 0.8502 - dense_9_loss: 0.6154 - dense_1_accuracy: 0.9485 - dense_3_accuracy: 0.8518 - dense_5_accuracy: 0.7745 - dense_7_accuracy: 0.6881 - dense_9_accuracy: 0.7912 - val_loss: 12.3249 - val_dense_1_loss: 9.1921 - val_dense_3_loss: 0.6013 - val_dense_5_loss: 0.9332 - val_dense_7_loss: 0.8496 - val_dense_9_loss: 0.7487 - val_dense_1_accuracy: 0.0670 - val_dense_3_accuracy: 0.8557 - val_dense_5_accuracy: 0.7526 - val_dense_7_accuracy: 0.7887 - val_dense_9_accuracy: 0.7526\n",
      "Epoch 24/30\n",
      "25/25 [==============================] - 3s 135ms/step - loss: 2.5451 - dense_1_loss: 0.1317 - dense_3_loss: 0.3894 - dense_5_loss: 0.6393 - dense_7_loss: 0.7610 - dense_9_loss: 0.6237 - dense_1_accuracy: 0.9472 - dense_3_accuracy: 0.8544 - dense_5_accuracy: 0.7693 - dense_7_accuracy: 0.7178 - dense_9_accuracy: 0.7784 - val_loss: 15.7365 - val_dense_1_loss: 12.3004 - val_dense_3_loss: 0.7534 - val_dense_5_loss: 0.9982 - val_dense_7_loss: 1.0931 - val_dense_9_loss: 0.5913 - val_dense_1_accuracy: 0.0103 - val_dense_3_accuracy: 0.8402 - val_dense_5_accuracy: 0.7577 - val_dense_7_accuracy: 0.6804 - val_dense_9_accuracy: 0.8144\n",
      "Epoch 25/30\n",
      "25/25 [==============================] - 3s 124ms/step - loss: 2.2660 - dense_1_loss: 0.1510 - dense_3_loss: 0.3507 - dense_5_loss: 0.5321 - dense_7_loss: 0.6886 - dense_9_loss: 0.5435 - dense_1_accuracy: 0.9536 - dense_3_accuracy: 0.8608 - dense_5_accuracy: 0.8106 - dense_7_accuracy: 0.7461 - dense_9_accuracy: 0.8106 - val_loss: 15.7699 - val_dense_1_loss: 12.6344 - val_dense_3_loss: 0.6574 - val_dense_5_loss: 1.0948 - val_dense_7_loss: 0.8243 - val_dense_9_loss: 0.5590 - val_dense_1_accuracy: 0.0206 - val_dense_3_accuracy: 0.8711 - val_dense_5_accuracy: 0.7474 - val_dense_7_accuracy: 0.7629 - val_dense_9_accuracy: 0.8144\n",
      "Epoch 26/30\n",
      "25/25 [==============================] - 3s 123ms/step - loss: 2.2204 - dense_1_loss: 0.1290 - dense_3_loss: 0.3421 - dense_5_loss: 0.5575 - dense_7_loss: 0.6789 - dense_9_loss: 0.5129 - dense_1_accuracy: 0.9472 - dense_3_accuracy: 0.8750 - dense_5_accuracy: 0.7912 - dense_7_accuracy: 0.7655 - dense_9_accuracy: 0.8093 - val_loss: 14.0916 - val_dense_1_loss: 11.0957 - val_dense_3_loss: 0.6401 - val_dense_5_loss: 0.9704 - val_dense_7_loss: 0.8268 - val_dense_9_loss: 0.5587 - val_dense_1_accuracy: 0.1031 - val_dense_3_accuracy: 0.8814 - val_dense_5_accuracy: 0.7680 - val_dense_7_accuracy: 0.7835 - val_dense_9_accuracy: 0.8247\n"
     ]
    },
    {
     "name": "stdout",
     "output_type": "stream",
     "text": [
      "Epoch 27/30\n",
      "25/25 [==============================] - 3s 126ms/step - loss: 2.2085 - dense_1_loss: 0.1230 - dense_3_loss: 0.3125 - dense_5_loss: 0.5009 - dense_7_loss: 0.7109 - dense_9_loss: 0.5612 - dense_1_accuracy: 0.9523 - dense_3_accuracy: 0.8827 - dense_5_accuracy: 0.8054 - dense_7_accuracy: 0.7371 - dense_9_accuracy: 0.8041 - val_loss: 18.7861 - val_dense_1_loss: 15.3345 - val_dense_3_loss: 0.7124 - val_dense_5_loss: 1.0678 - val_dense_7_loss: 1.0423 - val_dense_9_loss: 0.6290 - val_dense_1_accuracy: 0.0052 - val_dense_3_accuracy: 0.8763 - val_dense_5_accuracy: 0.7474 - val_dense_7_accuracy: 0.7320 - val_dense_9_accuracy: 0.8041\n",
      "Epoch 28/30\n",
      "25/25 [==============================] - 3s 130ms/step - loss: 2.0258 - dense_1_loss: 0.0979 - dense_3_loss: 0.2637 - dense_5_loss: 0.4991 - dense_7_loss: 0.6619 - dense_9_loss: 0.5031 - dense_1_accuracy: 0.9652 - dense_3_accuracy: 0.9034 - dense_5_accuracy: 0.8286 - dense_7_accuracy: 0.7384 - dense_9_accuracy: 0.8131 - val_loss: 16.3718 - val_dense_1_loss: 13.1168 - val_dense_3_loss: 0.7904 - val_dense_5_loss: 1.1053 - val_dense_7_loss: 0.8043 - val_dense_9_loss: 0.5549 - val_dense_1_accuracy: 0.0567 - val_dense_3_accuracy: 0.8711 - val_dense_5_accuracy: 0.7577 - val_dense_7_accuracy: 0.7784 - val_dense_9_accuracy: 0.8041\n",
      "Epoch 29/30\n",
      "25/25 [==============================] - 3s 135ms/step - loss: 1.9587 - dense_1_loss: 0.1099 - dense_3_loss: 0.2653 - dense_5_loss: 0.4718 - dense_7_loss: 0.6151 - dense_9_loss: 0.4967 - dense_1_accuracy: 0.9575 - dense_3_accuracy: 0.9034 - dense_5_accuracy: 0.8157 - dense_7_accuracy: 0.7693 - dense_9_accuracy: 0.8093 - val_loss: 15.0230 - val_dense_1_loss: 11.8059 - val_dense_3_loss: 0.7500 - val_dense_5_loss: 1.0289 - val_dense_7_loss: 0.8038 - val_dense_9_loss: 0.6343 - val_dense_1_accuracy: 0.0052 - val_dense_3_accuracy: 0.8454 - val_dense_5_accuracy: 0.7526 - val_dense_7_accuracy: 0.7629 - val_dense_9_accuracy: 0.8093\n",
      "Epoch 30/30\n",
      "25/25 [==============================] - 3s 125ms/step - loss: 1.8942 - dense_1_loss: 0.1136 - dense_3_loss: 0.2721 - dense_5_loss: 0.4607 - dense_7_loss: 0.5885 - dense_9_loss: 0.4592 - dense_1_accuracy: 0.9575 - dense_3_accuracy: 0.8969 - dense_5_accuracy: 0.8363 - dense_7_accuracy: 0.7809 - dense_9_accuracy: 0.8260 - val_loss: 14.8346 - val_dense_1_loss: 11.7784 - val_dense_3_loss: 0.7555 - val_dense_5_loss: 0.9648 - val_dense_7_loss: 0.8073 - val_dense_9_loss: 0.5286 - val_dense_1_accuracy: 0.0876 - val_dense_3_accuracy: 0.8608 - val_dense_5_accuracy: 0.7938 - val_dense_7_accuracy: 0.7629 - val_dense_9_accuracy: 0.8454\n"
     ]
    }
   ],
   "source": [
    "#model = create_model()\n",
    "hist = model.fit(X_train, [y_train[0], y_train[1], y_train[2], y_train[3], y_train[4]], batch_size=32, epochs=30,verbose=1, validation_split=0.2)"
   ]
  },
  {
   "cell_type": "code",
   "execution_count": 8,
   "metadata": {
    "_uuid": "e2cf1d0b8ab4a293d3dc110eb85a0946333bb0b9"
   },
   "outputs": [],
   "source": [
    "# Define function to predict captcha\n",
    "def predict(filepath):\n",
    "    img = cv2.imread(filepath, cv2.IMREAD_GRAYSCALE)\n",
    "    if img is not None:\n",
    "        img = img / 255.0\n",
    "    else:\n",
    "        print(\"Not detected\");\n",
    "    res = np.array(model.predict(img[np.newaxis, :, :, np.newaxis]))\n",
    "    ans = np.reshape(res, (5, 36))\n",
    "    l_ind = []\n",
    "    probs = []\n",
    "    for a in ans:\n",
    "        l_ind.append(np.argmax(a))\n",
    "        #probs.append(np.max(a))\n",
    "\n",
    "    capt = ''\n",
    "    for l in l_ind:\n",
    "        capt += symbols[l]\n",
    "    return capt#, sum(probs) / 5\n",
    "\n"
   ]
  },
  {
   "cell_type": "code",
   "execution_count": 9,
   "metadata": {
    "_uuid": "ed22f3a33792928c9f74601b264d269361755e0b"
   },
   "outputs": [
    {
     "name": "stdout",
     "output_type": "stream",
     "text": [
      "4/4 [==============================] - 0s 17ms/step - loss: 16.2728 - dense_1_loss: 14.2163 - dense_3_loss: 0.1669 - dense_5_loss: 0.4782 - dense_7_loss: 0.8415 - dense_9_loss: 0.5698 - dense_1_accuracy: 0.0000e+00 - dense_3_accuracy: 0.9400 - dense_5_accuracy: 0.8400 - dense_7_accuracy: 0.7600 - dense_9_accuracy: 0.8600\n",
      "Test Loss and accuracy: [16.272777557373047, 14.216338157653809, 0.1669446974992752, 0.47816789150238037, 0.8414819836616516, 0.5698450207710266, 0.0, 0.9399999976158142, 0.8399999737739563, 0.7599999904632568, 0.8600000143051147]\n"
     ]
    }
   ],
   "source": [
    "score= model.evaluate(X_test,[y_test[0], y_test[1], y_test[2], y_test[3], y_test[4]],verbose=1)\n",
    "print('Test Loss and accuracy:', score)"
   ]
  },
  {
   "cell_type": "code",
   "execution_count": 10,
   "metadata": {},
   "outputs": [],
   "source": [
    "#Create a Drawing Function\n",
    "def show_train_history(train_history,train,validation,label):\n",
    "    #Write the code\n",
    "    plt.plot(train_history.history[train])\n",
    "    plt.plot(train_history.history[validation])\n",
    "    plt.title(\"Train History\")\n",
    "    plt.ylabel(label)\n",
    "    plt.xlabel(\"Epoch\")\n",
    "    plt.legend(['train','validation'],loc='upper left')\n",
    "    plt.show()"
   ]
  },
  {
   "cell_type": "code",
   "execution_count": 13,
   "metadata": {},
   "outputs": [
    {
     "data": {
      "image/png": "[encoded data removed]",
      "text/plain": [
       "<Figure size 432x288 with 1 Axes>"
      ]
     },
     "metadata": {
      "needs_background": "light"
     },
     "output_type": "display_data"
    },
    {
     "data": {
      "image/png": "[encoded data removed]",
      "text/plain": [
       "<Figure size 432x288 with 1 Axes>"
      ]
     },
     "metadata": {
      "needs_background": "light"
     },
     "output_type": "display_data"
    }
   ],
   "source": [
    "show_train_history(hist,'dense_9_accuracy','val_dense_9_accuracy','accuracy')\n",
    "show_train_history(hist,'dense_9_loss','val_dense_9_loss','loss')"
   ]
  },
  {
   "cell_type": "code",
   "execution_count": null,
   "metadata": {
    "_uuid": "44002a5776a0b54067cc8ff9574c2fbdfc356068"
   },
   "outputs": [],
   "source": [
    "# Check model on some samples\n",
    "model.evaluate(X_test, [y_test[0], y_test[1], y_test[2], y_test[3], y_test[4]])\n",
    "print(predict('./input/captcha-version-2-images/8n5p3.png'))\n",
    "print(predict('./input/captcha-version-2-images/f2m8n.png'))\n",
    "print(predict('./input/captcha-version-2-images/dce8y.png'))\n",
    "print(predict('./input/captcha-version-2-images/3eny7.png'))\n",
    "print(predict('./input/captcha-version-2-images/npxb7.png'))"
   ]
  },
  {
   "cell_type": "code",
   "execution_count": null,
   "metadata": {
    "_uuid": "1f7aa77001b1185404c45a928d2555c484c402b3"
   },
   "outputs": [],
   "source": [
    "#Lets test an unknown captcha\n",
    "#preview\n",
    "%matplotlib inline \n",
    "import matplotlib.pyplot as plt\n",
    "img=cv2.imread('./input/capthaimages/a.png',cv2.IMREAD_GRAYSCALE)\n",
    "plt.imshow(img, cmap=plt.get_cmap('gray'))"
   ]
  },
  {
   "cell_type": "code",
   "execution_count": null,
   "metadata": {
    "_uuid": "c9ac975ea5aae3b03c23204d7e32a534c2db19d0"
   },
   "outputs": [],
   "source": [
    "#Lets Predict By Model\n",
    "print(\"Predicted Captcha =\",predict('./input/capthaimages/a.png'))"
   ]
  },
  {
   "cell_type": "code",
   "execution_count": null,
   "metadata": {
    "_uuid": "06940ca0d54ec7944e926b67232334830884a308"
   },
   "outputs": [],
   "source": [
    "#testing\n",
    "#c=0\n",
    "#for i, pic in enumerate(os.listdir('../input/captcha-version-2-images/samples/samples')):\n",
    "        # Read image as grayscale\n",
    "        \n",
    "        #if i>970:    \n",
    "\n",
    "            #img = cv2.imread(os.path.join('../input/captcha-version-2-images/samples/samples', pic), cv2.IMREAD_GRAYSCALE)\n",
    "            #print(\"Predicted Captcha =\",predict(os.path.join('../input/captcha-version-2-images/samples/samples',pic)))\n",
    "            #plt.imshow(img, cmap=plt.get_cmap('gray'))\n",
    "            #pr=predict(os.path.join('../input/captcha-version-2-images/samples/samples',pic))\n",
    "            #pic_target = pic[:-4]\n",
    "            #if pr==pic_target:\n",
    "                #c=c+1\n",
    "                #print(c)\n",
    "            #print(pic_target)\n",
    "#print((c/100)*100)"
   ]
  },
  {
   "cell_type": "code",
   "execution_count": null,
   "metadata": {
    "_uuid": "1c7d6e4f3407125d1bb3425efeaf31522a579abb"
   },
   "outputs": [],
   "source": []
  }
 ],
 "metadata": {
  "kernelspec": {
   "display_name": "Python 3 (ipykernel)",
   "language": "python",
   "name": "python3"
  },
  "language_info": {
   "codemirror_mode": {
    "name": "ipython",
    "version": 3
   },
   "file_extension": ".py",
   "mimetype": "text/x-python",
   "name": "python",
   "nbconvert_exporter": "python",
   "pygments_lexer": "ipython3",
   "version": "3.9.12"
  }
 },
 "nbformat": 4,
 "nbformat_minor": 4
}
